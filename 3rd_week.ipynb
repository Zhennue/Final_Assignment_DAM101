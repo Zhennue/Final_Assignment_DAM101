{
  "cells": [
    {
      "cell_type": "markdown",
      "metadata": {
        "id": "view-in-github",
        "colab_type": "text"
      },
      "source": [
        "<a href=\"https://colab.research.google.com/github/Zhennue/Final_Assignment_DAM101/blob/main/3rd_week.ipynb\" target=\"_parent\"><img src=\"https://colab.research.google.com/assets/colab-badge.svg\" alt=\"Open In Colab\"/></a>"
      ]
    },
    {
      "cell_type": "code",
      "execution_count": null,
      "metadata": {
        "colab": {
          "base_uri": "https://localhost:8080/"
        },
        "id": "ZIoD2LwimX4Q",
        "outputId": "a838c8eb-8d50-4306-c668-adcdf9e556e0"
      },
      "outputs": [
        {
          "output_type": "stream",
          "name": "stdout",
          "text": [
            "Mounted at /content/drive\n"
          ]
        }
      ],
      "source": [
        "from google.colab import drive\n",
        "drive.mount('/content/drive')"
      ]
    },
    {
      "cell_type": "code",
      "execution_count": null,
      "metadata": {
        "colab": {
          "base_uri": "https://localhost:8080/"
        },
        "id": "xoYWo_3LjI3v",
        "outputId": "241a35bb-27ab-4405-ce6a-a910a74bbcc6"
      },
      "outputs": [
        {
          "output_type": "stream",
          "name": "stdout",
          "text": [
            "Requirement already satisfied: torch in /usr/local/lib/python3.11/dist-packages (2.6.0+cu124)\n",
            "Requirement already satisfied: torchvision in /usr/local/lib/python3.11/dist-packages (0.21.0+cu124)\n",
            "Collecting gradio\n",
            "  Downloading gradio-5.31.0-py3-none-any.whl.metadata (16 kB)\n",
            "Requirement already satisfied: librosa in /usr/local/lib/python3.11/dist-packages (0.11.0)\n",
            "Requirement already satisfied: numpy in /usr/local/lib/python3.11/dist-packages (2.0.2)\n",
            "Requirement already satisfied: filelock in /usr/local/lib/python3.11/dist-packages (from torch) (3.18.0)\n",
            "Requirement already satisfied: typing-extensions>=4.10.0 in /usr/local/lib/python3.11/dist-packages (from torch) (4.13.2)\n",
            "Requirement already satisfied: networkx in /usr/local/lib/python3.11/dist-packages (from torch) (3.4.2)\n",
            "Requirement already satisfied: jinja2 in /usr/local/lib/python3.11/dist-packages (from torch) (3.1.6)\n",
            "Requirement already satisfied: fsspec in /usr/local/lib/python3.11/dist-packages (from torch) (2025.3.2)\n",
            "Collecting nvidia-cuda-nvrtc-cu12==12.4.127 (from torch)\n",
            "  Downloading nvidia_cuda_nvrtc_cu12-12.4.127-py3-none-manylinux2014_x86_64.whl.metadata (1.5 kB)\n",
            "Collecting nvidia-cuda-runtime-cu12==12.4.127 (from torch)\n",
            "  Downloading nvidia_cuda_runtime_cu12-12.4.127-py3-none-manylinux2014_x86_64.whl.metadata (1.5 kB)\n",
            "Collecting nvidia-cuda-cupti-cu12==12.4.127 (from torch)\n",
            "  Downloading nvidia_cuda_cupti_cu12-12.4.127-py3-none-manylinux2014_x86_64.whl.metadata (1.6 kB)\n",
            "Collecting nvidia-cudnn-cu12==9.1.0.70 (from torch)\n",
            "  Downloading nvidia_cudnn_cu12-9.1.0.70-py3-none-manylinux2014_x86_64.whl.metadata (1.6 kB)\n",
            "Collecting nvidia-cublas-cu12==12.4.5.8 (from torch)\n",
            "  Downloading nvidia_cublas_cu12-12.4.5.8-py3-none-manylinux2014_x86_64.whl.metadata (1.5 kB)\n",
            "Collecting nvidia-cufft-cu12==11.2.1.3 (from torch)\n",
            "  Downloading nvidia_cufft_cu12-11.2.1.3-py3-none-manylinux2014_x86_64.whl.metadata (1.5 kB)\n",
            "Collecting nvidia-curand-cu12==10.3.5.147 (from torch)\n",
            "  Downloading nvidia_curand_cu12-10.3.5.147-py3-none-manylinux2014_x86_64.whl.metadata (1.5 kB)\n",
            "Collecting nvidia-cusolver-cu12==11.6.1.9 (from torch)\n",
            "  Downloading nvidia_cusolver_cu12-11.6.1.9-py3-none-manylinux2014_x86_64.whl.metadata (1.6 kB)\n",
            "Collecting nvidia-cusparse-cu12==12.3.1.170 (from torch)\n",
            "  Downloading nvidia_cusparse_cu12-12.3.1.170-py3-none-manylinux2014_x86_64.whl.metadata (1.6 kB)\n",
            "Requirement already satisfied: nvidia-cusparselt-cu12==0.6.2 in /usr/local/lib/python3.11/dist-packages (from torch) (0.6.2)\n",
            "Requirement already satisfied: nvidia-nccl-cu12==2.21.5 in /usr/local/lib/python3.11/dist-packages (from torch) (2.21.5)\n",
            "Requirement already satisfied: nvidia-nvtx-cu12==12.4.127 in /usr/local/lib/python3.11/dist-packages (from torch) (12.4.127)\n",
            "Collecting nvidia-nvjitlink-cu12==12.4.127 (from torch)\n",
            "  Downloading nvidia_nvjitlink_cu12-12.4.127-py3-none-manylinux2014_x86_64.whl.metadata (1.5 kB)\n",
            "Requirement already satisfied: triton==3.2.0 in /usr/local/lib/python3.11/dist-packages (from torch) (3.2.0)\n",
            "Requirement already satisfied: sympy==1.13.1 in /usr/local/lib/python3.11/dist-packages (from torch) (1.13.1)\n",
            "Requirement already satisfied: mpmath<1.4,>=1.1.0 in /usr/local/lib/python3.11/dist-packages (from sympy==1.13.1->torch) (1.3.0)\n",
            "Requirement already satisfied: pillow!=8.3.*,>=5.3.0 in /usr/local/lib/python3.11/dist-packages (from torchvision) (11.2.1)\n",
            "Collecting aiofiles<25.0,>=22.0 (from gradio)\n",
            "  Downloading aiofiles-24.1.0-py3-none-any.whl.metadata (10 kB)\n",
            "Requirement already satisfied: anyio<5.0,>=3.0 in /usr/local/lib/python3.11/dist-packages (from gradio) (4.9.0)\n",
            "Collecting fastapi<1.0,>=0.115.2 (from gradio)\n",
            "  Downloading fastapi-0.115.12-py3-none-any.whl.metadata (27 kB)\n",
            "Collecting ffmpy (from gradio)\n",
            "  Downloading ffmpy-0.5.0-py3-none-any.whl.metadata (3.0 kB)\n",
            "Collecting gradio-client==1.10.1 (from gradio)\n",
            "  Downloading gradio_client-1.10.1-py3-none-any.whl.metadata (7.1 kB)\n",
            "Collecting groovy~=0.1 (from gradio)\n",
            "  Downloading groovy-0.1.2-py3-none-any.whl.metadata (6.1 kB)\n",
            "Requirement already satisfied: httpx>=0.24.1 in /usr/local/lib/python3.11/dist-packages (from gradio) (0.28.1)\n",
            "Requirement already satisfied: huggingface-hub>=0.28.1 in /usr/local/lib/python3.11/dist-packages (from gradio) (0.31.4)\n",
            "Requirement already satisfied: markupsafe<4.0,>=2.0 in /usr/local/lib/python3.11/dist-packages (from gradio) (3.0.2)\n",
            "Requirement already satisfied: orjson~=3.0 in /usr/local/lib/python3.11/dist-packages (from gradio) (3.10.18)\n",
            "Requirement already satisfied: packaging in /usr/local/lib/python3.11/dist-packages (from gradio) (24.2)\n",
            "Requirement already satisfied: pandas<3.0,>=1.0 in /usr/local/lib/python3.11/dist-packages (from gradio) (2.2.2)\n",
            "Requirement already satisfied: pydantic<2.12,>=2.0 in /usr/local/lib/python3.11/dist-packages (from gradio) (2.11.4)\n",
            "Collecting pydub (from gradio)\n",
            "  Downloading pydub-0.25.1-py2.py3-none-any.whl.metadata (1.4 kB)\n",
            "Collecting python-multipart>=0.0.18 (from gradio)\n",
            "  Downloading python_multipart-0.0.20-py3-none-any.whl.metadata (1.8 kB)\n",
            "Requirement already satisfied: pyyaml<7.0,>=5.0 in /usr/local/lib/python3.11/dist-packages (from gradio) (6.0.2)\n",
            "Collecting ruff>=0.9.3 (from gradio)\n",
            "  Downloading ruff-0.11.12-py3-none-manylinux_2_17_x86_64.manylinux2014_x86_64.whl.metadata (25 kB)\n",
            "Collecting safehttpx<0.2.0,>=0.1.6 (from gradio)\n",
            "  Downloading safehttpx-0.1.6-py3-none-any.whl.metadata (4.2 kB)\n",
            "Collecting semantic-version~=2.0 (from gradio)\n",
            "  Downloading semantic_version-2.10.0-py2.py3-none-any.whl.metadata (9.7 kB)\n",
            "Collecting starlette<1.0,>=0.40.0 (from gradio)\n",
            "  Downloading starlette-0.47.0-py3-none-any.whl.metadata (6.2 kB)\n",
            "Collecting tomlkit<0.14.0,>=0.12.0 (from gradio)\n",
            "  Downloading tomlkit-0.13.2-py3-none-any.whl.metadata (2.7 kB)\n",
            "Requirement already satisfied: typer<1.0,>=0.12 in /usr/local/lib/python3.11/dist-packages (from gradio) (0.15.3)\n",
            "Collecting uvicorn>=0.14.0 (from gradio)\n",
            "  Downloading uvicorn-0.34.2-py3-none-any.whl.metadata (6.5 kB)\n",
            "Requirement already satisfied: websockets<16.0,>=10.0 in /usr/local/lib/python3.11/dist-packages (from gradio-client==1.10.1->gradio) (15.0.1)\n",
            "Requirement already satisfied: audioread>=2.1.9 in /usr/local/lib/python3.11/dist-packages (from librosa) (3.0.1)\n",
            "Requirement already satisfied: numba>=0.51.0 in /usr/local/lib/python3.11/dist-packages (from librosa) (0.60.0)\n",
            "Requirement already satisfied: scipy>=1.6.0 in /usr/local/lib/python3.11/dist-packages (from librosa) (1.15.3)\n",
            "Requirement already satisfied: scikit-learn>=1.1.0 in /usr/local/lib/python3.11/dist-packages (from librosa) (1.6.1)\n",
            "Requirement already satisfied: joblib>=1.0 in /usr/local/lib/python3.11/dist-packages (from librosa) (1.5.0)\n",
            "Requirement already satisfied: decorator>=4.3.0 in /usr/local/lib/python3.11/dist-packages (from librosa) (4.4.2)\n",
            "Requirement already satisfied: soundfile>=0.12.1 in /usr/local/lib/python3.11/dist-packages (from librosa) (0.13.1)\n",
            "Requirement already satisfied: pooch>=1.1 in /usr/local/lib/python3.11/dist-packages (from librosa) (1.8.2)\n",
            "Requirement already satisfied: soxr>=0.3.2 in /usr/local/lib/python3.11/dist-packages (from librosa) (0.5.0.post1)\n",
            "Requirement already satisfied: lazy_loader>=0.1 in /usr/local/lib/python3.11/dist-packages (from librosa) (0.4)\n",
            "Requirement already satisfied: msgpack>=1.0 in /usr/local/lib/python3.11/dist-packages (from librosa) (1.1.0)\n",
            "Requirement already satisfied: idna>=2.8 in /usr/local/lib/python3.11/dist-packages (from anyio<5.0,>=3.0->gradio) (3.10)\n",
            "Requirement already satisfied: sniffio>=1.1 in /usr/local/lib/python3.11/dist-packages (from anyio<5.0,>=3.0->gradio) (1.3.1)\n",
            "Collecting starlette<1.0,>=0.40.0 (from gradio)\n",
            "  Downloading starlette-0.46.2-py3-none-any.whl.metadata (6.2 kB)\n",
            "Requirement already satisfied: certifi in /usr/local/lib/python3.11/dist-packages (from httpx>=0.24.1->gradio) (2025.4.26)\n",
            "Requirement already satisfied: httpcore==1.* in /usr/local/lib/python3.11/dist-packages (from httpx>=0.24.1->gradio) (1.0.9)\n",
            "Requirement already satisfied: h11>=0.16 in /usr/local/lib/python3.11/dist-packages (from httpcore==1.*->httpx>=0.24.1->gradio) (0.16.0)\n",
            "Requirement already satisfied: requests in /usr/local/lib/python3.11/dist-packages (from huggingface-hub>=0.28.1->gradio) (2.32.3)\n",
            "Requirement already satisfied: tqdm>=4.42.1 in /usr/local/lib/python3.11/dist-packages (from huggingface-hub>=0.28.1->gradio) (4.67.1)\n",
            "Requirement already satisfied: llvmlite<0.44,>=0.43.0dev0 in /usr/local/lib/python3.11/dist-packages (from numba>=0.51.0->librosa) (0.43.0)\n",
            "Requirement already satisfied: python-dateutil>=2.8.2 in /usr/local/lib/python3.11/dist-packages (from pandas<3.0,>=1.0->gradio) (2.9.0.post0)\n",
            "Requirement already satisfied: pytz>=2020.1 in /usr/local/lib/python3.11/dist-packages (from pandas<3.0,>=1.0->gradio) (2025.2)\n",
            "Requirement already satisfied: tzdata>=2022.7 in /usr/local/lib/python3.11/dist-packages (from pandas<3.0,>=1.0->gradio) (2025.2)\n",
            "Requirement already satisfied: platformdirs>=2.5.0 in /usr/local/lib/python3.11/dist-packages (from pooch>=1.1->librosa) (4.3.8)\n",
            "Requirement already satisfied: annotated-types>=0.6.0 in /usr/local/lib/python3.11/dist-packages (from pydantic<2.12,>=2.0->gradio) (0.7.0)\n",
            "Requirement already satisfied: pydantic-core==2.33.2 in /usr/local/lib/python3.11/dist-packages (from pydantic<2.12,>=2.0->gradio) (2.33.2)\n",
            "Requirement already satisfied: typing-inspection>=0.4.0 in /usr/local/lib/python3.11/dist-packages (from pydantic<2.12,>=2.0->gradio) (0.4.1)\n",
            "Requirement already satisfied: threadpoolctl>=3.1.0 in /usr/local/lib/python3.11/dist-packages (from scikit-learn>=1.1.0->librosa) (3.6.0)\n",
            "Requirement already satisfied: cffi>=1.0 in /usr/local/lib/python3.11/dist-packages (from soundfile>=0.12.1->librosa) (1.17.1)\n",
            "Requirement already satisfied: click>=8.0.0 in /usr/local/lib/python3.11/dist-packages (from typer<1.0,>=0.12->gradio) (8.2.1)\n",
            "Requirement already satisfied: shellingham>=1.3.0 in /usr/local/lib/python3.11/dist-packages (from typer<1.0,>=0.12->gradio) (1.5.4)\n",
            "Requirement already satisfied: rich>=10.11.0 in /usr/local/lib/python3.11/dist-packages (from typer<1.0,>=0.12->gradio) (13.9.4)\n",
            "Requirement already satisfied: pycparser in /usr/local/lib/python3.11/dist-packages (from cffi>=1.0->soundfile>=0.12.1->librosa) (2.22)\n",
            "Requirement already satisfied: six>=1.5 in /usr/local/lib/python3.11/dist-packages (from python-dateutil>=2.8.2->pandas<3.0,>=1.0->gradio) (1.17.0)\n",
            "Requirement already satisfied: charset-normalizer<4,>=2 in /usr/local/lib/python3.11/dist-packages (from requests->huggingface-hub>=0.28.1->gradio) (3.4.2)\n",
            "Requirement already satisfied: urllib3<3,>=1.21.1 in /usr/local/lib/python3.11/dist-packages (from requests->huggingface-hub>=0.28.1->gradio) (2.4.0)\n",
            "Requirement already satisfied: markdown-it-py>=2.2.0 in /usr/local/lib/python3.11/dist-packages (from rich>=10.11.0->typer<1.0,>=0.12->gradio) (3.0.0)\n",
            "Requirement already satisfied: pygments<3.0.0,>=2.13.0 in /usr/local/lib/python3.11/dist-packages (from rich>=10.11.0->typer<1.0,>=0.12->gradio) (2.19.1)\n",
            "Requirement already satisfied: mdurl~=0.1 in /usr/local/lib/python3.11/dist-packages (from markdown-it-py>=2.2.0->rich>=10.11.0->typer<1.0,>=0.12->gradio) (0.1.2)\n",
            "Downloading nvidia_cublas_cu12-12.4.5.8-py3-none-manylinux2014_x86_64.whl (363.4 MB)\n",
            "\u001b[2K   \u001b[90m━━━━━━━━━━━━━━━━━━━━━━━━━━━━━━━━━━━━━━━━\u001b[0m \u001b[32m363.4/363.4 MB\u001b[0m \u001b[31m4.6 MB/s\u001b[0m eta \u001b[36m0:00:00\u001b[0m\n",
            "\u001b[?25hDownloading nvidia_cuda_cupti_cu12-12.4.127-py3-none-manylinux2014_x86_64.whl (13.8 MB)\n",
            "\u001b[2K   \u001b[90m━━━━━━━━━━━━━━━━━━━━━━━━━━━━━━━━━━━━━━━━\u001b[0m \u001b[32m13.8/13.8 MB\u001b[0m \u001b[31m59.2 MB/s\u001b[0m eta \u001b[36m0:00:00\u001b[0m\n",
            "\u001b[?25hDownloading nvidia_cuda_nvrtc_cu12-12.4.127-py3-none-manylinux2014_x86_64.whl (24.6 MB)\n",
            "\u001b[2K   \u001b[90m━━━━━━━━━━━━━━━━━━━━━━━━━━━━━━━━━━━━━━━━\u001b[0m \u001b[32m24.6/24.6 MB\u001b[0m \u001b[31m34.8 MB/s\u001b[0m eta \u001b[36m0:00:00\u001b[0m\n",
            "\u001b[?25hDownloading nvidia_cuda_runtime_cu12-12.4.127-py3-none-manylinux2014_x86_64.whl (883 kB)\n",
            "\u001b[2K   \u001b[90m━━━━━━━━━━━━━━━━━━━━━━━━━━━━━━━━━━━━━━━━\u001b[0m \u001b[32m883.7/883.7 kB\u001b[0m \u001b[31m35.7 MB/s\u001b[0m eta \u001b[36m0:00:00\u001b[0m\n",
            "\u001b[?25hDownloading nvidia_cudnn_cu12-9.1.0.70-py3-none-manylinux2014_x86_64.whl (664.8 MB)\n",
            "\u001b[2K   \u001b[90m━━━━━━━━━━━━━━━━━━━━━━━━━━━━━━━━━━━━━━━━\u001b[0m \u001b[32m664.8/664.8 MB\u001b[0m \u001b[31m2.8 MB/s\u001b[0m eta \u001b[36m0:00:00\u001b[0m\n",
            "\u001b[?25hDownloading nvidia_cufft_cu12-11.2.1.3-py3-none-manylinux2014_x86_64.whl (211.5 MB)\n",
            "\u001b[2K   \u001b[90m━━━━━━━━━━━━━━━━━━━━━━━━━━━━━━━━━━━━━━━━\u001b[0m \u001b[32m211.5/211.5 MB\u001b[0m \u001b[31m5.5 MB/s\u001b[0m eta \u001b[36m0:00:00\u001b[0m\n",
            "\u001b[?25hDownloading nvidia_curand_cu12-10.3.5.147-py3-none-manylinux2014_x86_64.whl (56.3 MB)\n",
            "\u001b[2K   \u001b[90m━━━━━━━━━━━━━━━━━━━━━━━━━━━━━━━━━━━━━━━━\u001b[0m \u001b[32m56.3/56.3 MB\u001b[0m \u001b[31m16.0 MB/s\u001b[0m eta \u001b[36m0:00:00\u001b[0m\n",
            "\u001b[?25hDownloading nvidia_cusolver_cu12-11.6.1.9-py3-none-manylinux2014_x86_64.whl (127.9 MB)\n",
            "\u001b[2K   \u001b[90m━━━━━━━━━━━━━━━━━━━━━━━━━━━━━━━━━━━━━━━━\u001b[0m \u001b[32m127.9/127.9 MB\u001b[0m \u001b[31m7.2 MB/s\u001b[0m eta \u001b[36m0:00:00\u001b[0m\n",
            "\u001b[?25hDownloading nvidia_cusparse_cu12-12.3.1.170-py3-none-manylinux2014_x86_64.whl (207.5 MB)\n",
            "\u001b[2K   \u001b[90m━━━━━━━━━━━━━━━━━━━━━━━━━━━━━━━━━━━━━━━━\u001b[0m \u001b[32m207.5/207.5 MB\u001b[0m \u001b[31m6.0 MB/s\u001b[0m eta \u001b[36m0:00:00\u001b[0m\n",
            "\u001b[?25hDownloading nvidia_nvjitlink_cu12-12.4.127-py3-none-manylinux2014_x86_64.whl (21.1 MB)\n",
            "\u001b[2K   \u001b[90m━━━━━━━━━━━━━━━━━━━━━━━━━━━━━━━━━━━━━━━━\u001b[0m \u001b[32m21.1/21.1 MB\u001b[0m \u001b[31m91.0 MB/s\u001b[0m eta \u001b[36m0:00:00\u001b[0m\n",
            "\u001b[?25hDownloading gradio-5.31.0-py3-none-any.whl (54.2 MB)\n",
            "\u001b[2K   \u001b[90m━━━━━━━━━━━━━━━━━━━━━━━━━━━━━━━━━━━━━━━━\u001b[0m \u001b[32m54.2/54.2 MB\u001b[0m \u001b[31m11.0 MB/s\u001b[0m eta \u001b[36m0:00:00\u001b[0m\n",
            "\u001b[?25hDownloading gradio_client-1.10.1-py3-none-any.whl (323 kB)\n",
            "\u001b[2K   \u001b[90m━━━━━━━━━━━━━━━━━━━━━━━━━━━━━━━━━━━━━━━━\u001b[0m \u001b[32m323.1/323.1 kB\u001b[0m \u001b[31m21.9 MB/s\u001b[0m eta \u001b[36m0:00:00\u001b[0m\n",
            "\u001b[?25hDownloading aiofiles-24.1.0-py3-none-any.whl (15 kB)\n",
            "Downloading fastapi-0.115.12-py3-none-any.whl (95 kB)\n",
            "\u001b[2K   \u001b[90m━━━━━━━━━━━━━━━━━━━━━━━━━━━━━━━━━━━━━━━━\u001b[0m \u001b[32m95.2/95.2 kB\u001b[0m \u001b[31m9.9 MB/s\u001b[0m eta \u001b[36m0:00:00\u001b[0m\n",
            "\u001b[?25hDownloading groovy-0.1.2-py3-none-any.whl (14 kB)\n",
            "Downloading python_multipart-0.0.20-py3-none-any.whl (24 kB)\n",
            "Downloading ruff-0.11.12-py3-none-manylinux_2_17_x86_64.manylinux2014_x86_64.whl (11.5 MB)\n",
            "\u001b[2K   \u001b[90m━━━━━━━━━━━━━━━━━━━━━━━━━━━━━━━━━━━━━━━━\u001b[0m \u001b[32m11.5/11.5 MB\u001b[0m \u001b[31m9.3 MB/s\u001b[0m eta \u001b[36m0:00:00\u001b[0m\n",
            "\u001b[?25hDownloading safehttpx-0.1.6-py3-none-any.whl (8.7 kB)\n",
            "Downloading semantic_version-2.10.0-py2.py3-none-any.whl (15 kB)\n",
            "Downloading starlette-0.46.2-py3-none-any.whl (72 kB)\n",
            "\u001b[2K   \u001b[90m━━━━━━━━━━━━━━━━━━━━━━━━━━━━━━━━━━━━━━━━\u001b[0m \u001b[32m72.0/72.0 kB\u001b[0m \u001b[31m4.3 MB/s\u001b[0m eta \u001b[36m0:00:00\u001b[0m\n",
            "\u001b[?25hDownloading tomlkit-0.13.2-py3-none-any.whl (37 kB)\n",
            "Downloading uvicorn-0.34.2-py3-none-any.whl (62 kB)\n",
            "\u001b[2K   \u001b[90m━━━━━━━━━━━━━━━━━━━━━━━━━━━━━━━━━━━━━━━━\u001b[0m \u001b[32m62.5/62.5 kB\u001b[0m \u001b[31m6.1 MB/s\u001b[0m eta \u001b[36m0:00:00\u001b[0m\n",
            "\u001b[?25hDownloading ffmpy-0.5.0-py3-none-any.whl (6.0 kB)\n",
            "Downloading pydub-0.25.1-py2.py3-none-any.whl (32 kB)\n",
            "Installing collected packages: pydub, uvicorn, tomlkit, semantic-version, ruff, python-multipart, nvidia-nvjitlink-cu12, nvidia-curand-cu12, nvidia-cufft-cu12, nvidia-cuda-runtime-cu12, nvidia-cuda-nvrtc-cu12, nvidia-cuda-cupti-cu12, nvidia-cublas-cu12, groovy, ffmpy, aiofiles, starlette, nvidia-cusparse-cu12, nvidia-cudnn-cu12, safehttpx, nvidia-cusolver-cu12, gradio-client, fastapi, gradio\n",
            "  Attempting uninstall: nvidia-nvjitlink-cu12\n",
            "    Found existing installation: nvidia-nvjitlink-cu12 12.5.82\n",
            "    Uninstalling nvidia-nvjitlink-cu12-12.5.82:\n",
            "      Successfully uninstalled nvidia-nvjitlink-cu12-12.5.82\n",
            "  Attempting uninstall: nvidia-curand-cu12\n",
            "    Found existing installation: nvidia-curand-cu12 10.3.6.82\n",
            "    Uninstalling nvidia-curand-cu12-10.3.6.82:\n",
            "      Successfully uninstalled nvidia-curand-cu12-10.3.6.82\n",
            "  Attempting uninstall: nvidia-cufft-cu12\n",
            "    Found existing installation: nvidia-cufft-cu12 11.2.3.61\n",
            "    Uninstalling nvidia-cufft-cu12-11.2.3.61:\n",
            "      Successfully uninstalled nvidia-cufft-cu12-11.2.3.61\n",
            "  Attempting uninstall: nvidia-cuda-runtime-cu12\n",
            "    Found existing installation: nvidia-cuda-runtime-cu12 12.5.82\n",
            "    Uninstalling nvidia-cuda-runtime-cu12-12.5.82:\n",
            "      Successfully uninstalled nvidia-cuda-runtime-cu12-12.5.82\n",
            "  Attempting uninstall: nvidia-cuda-nvrtc-cu12\n",
            "    Found existing installation: nvidia-cuda-nvrtc-cu12 12.5.82\n",
            "    Uninstalling nvidia-cuda-nvrtc-cu12-12.5.82:\n",
            "      Successfully uninstalled nvidia-cuda-nvrtc-cu12-12.5.82\n",
            "  Attempting uninstall: nvidia-cuda-cupti-cu12\n",
            "    Found existing installation: nvidia-cuda-cupti-cu12 12.5.82\n",
            "    Uninstalling nvidia-cuda-cupti-cu12-12.5.82:\n",
            "      Successfully uninstalled nvidia-cuda-cupti-cu12-12.5.82\n",
            "  Attempting uninstall: nvidia-cublas-cu12\n",
            "    Found existing installation: nvidia-cublas-cu12 12.5.3.2\n",
            "    Uninstalling nvidia-cublas-cu12-12.5.3.2:\n",
            "      Successfully uninstalled nvidia-cublas-cu12-12.5.3.2\n",
            "  Attempting uninstall: nvidia-cusparse-cu12\n",
            "    Found existing installation: nvidia-cusparse-cu12 12.5.1.3\n",
            "    Uninstalling nvidia-cusparse-cu12-12.5.1.3:\n",
            "      Successfully uninstalled nvidia-cusparse-cu12-12.5.1.3\n",
            "  Attempting uninstall: nvidia-cudnn-cu12\n",
            "    Found existing installation: nvidia-cudnn-cu12 9.3.0.75\n",
            "    Uninstalling nvidia-cudnn-cu12-9.3.0.75:\n",
            "      Successfully uninstalled nvidia-cudnn-cu12-9.3.0.75\n",
            "  Attempting uninstall: nvidia-cusolver-cu12\n",
            "    Found existing installation: nvidia-cusolver-cu12 11.6.3.83\n",
            "    Uninstalling nvidia-cusolver-cu12-11.6.3.83:\n",
            "      Successfully uninstalled nvidia-cusolver-cu12-11.6.3.83\n",
            "Successfully installed aiofiles-24.1.0 fastapi-0.115.12 ffmpy-0.5.0 gradio-5.31.0 gradio-client-1.10.1 groovy-0.1.2 nvidia-cublas-cu12-12.4.5.8 nvidia-cuda-cupti-cu12-12.4.127 nvidia-cuda-nvrtc-cu12-12.4.127 nvidia-cuda-runtime-cu12-12.4.127 nvidia-cudnn-cu12-9.1.0.70 nvidia-cufft-cu12-11.2.1.3 nvidia-curand-cu12-10.3.5.147 nvidia-cusolver-cu12-11.6.1.9 nvidia-cusparse-cu12-12.3.1.170 nvidia-nvjitlink-cu12-12.4.127 pydub-0.25.1 python-multipart-0.0.20 ruff-0.11.12 safehttpx-0.1.6 semantic-version-2.10.0 starlette-0.46.2 tomlkit-0.13.2 uvicorn-0.34.2\n"
          ]
        }
      ],
      "source": [
        "!pip install torch torchvision gradio librosa numpy"
      ]
    },
    {
      "cell_type": "code",
      "execution_count": null,
      "metadata": {
        "colab": {
          "base_uri": "https://localhost:8080/"
        },
        "id": "75wzmrcXuvqG",
        "outputId": "c8124e36-c1d5-4738-b30b-f27a1393d86b"
      },
      "outputs": [
        {
          "name": "stdout",
          "output_type": "stream",
          "text": [
            "Deleted: /content/drive/MyDrive/SS2025/DAM101/Assignment_4/Melspectogram/Dzongkha/SONAM WNGDI TOP SONGS 2022 ｜｜ BHUTANESE NEW SONGS 2022｜｜_chunk5_clip1_10s_01.wav\n",
            "Deleted: /content/drive/MyDrive/SS2025/DAM101/Assignment_4/Melspectogram/Dzongkha/PHUDOSA- Sonam Wangchen ft. Tashi Kheldon Dorji and The Monarchs @YeshiLhendupFilms ｜ Music Video_song6_clip1_10s_01.wav\n",
            "Deleted: /content/drive/MyDrive/SS2025/DAM101/Assignment_4/Melspectogram/Dzongkha/Latest Hit Song ｜｜ Bhutanese Popular song_song3_clip3_10s_01.wav\n",
            "Deleted: /content/drive/MyDrive/SS2025/DAM101/Assignment_4/Melspectogram/Dzongkha/Aum Penjor ｜ Full song  ｜ BTN Tshering Dorji ｜ Karma Jerry ｜ Tandin Bidha ｜ Ugyen Seldon ｜_part1_10s_01.wav\n",
            "Deleted: /content/drive/MyDrive/SS2025/DAM101/Assignment_4/Melspectogram/Dzongkha/SONAM WNGDI TOP SONGS 2022 ｜｜ BHUTANESE NEW SONGS 2022｜｜_chunk4_clip1_10s_01.wav\n",
            "Deleted: /content/drive/MyDrive/SS2025/DAM101/Assignment_4/Melspectogram/Dzongkha/PHUDOSA- Sonam Wangchen ft. Tashi Kheldon Dorji and The Monarchs @YeshiLhendupFilms ｜ Music Video_song8_clip1_10s_01.wav\n",
            "Deleted: /content/drive/MyDrive/SS2025/DAM101/Assignment_4/Melspectogram/Dzongkha/Latest Hit Song ｜｜ Bhutanese Popular song_song2_clip1_10s_01.wav\n",
            "Deleted: /content/drive/MyDrive/SS2025/DAM101/Assignment_4/Melspectogram/Dzongkha/HEY LOVE by @Ngawang.Thinley  @ugay03  Lhakpa Dema (Official Music Video)_song1_clip1_10s_01.wav\n",
            "Deleted: /content/drive/MyDrive/SS2025/DAM101/Assignment_4/Melspectogram/Dzongkha/PHUDOSA- Sonam Wangchen ft. Tashi Kheldon Dorji and The Monarchs @YeshiLhendupFilms ｜ Music Video_song7_clip1_10s_01.wav\n",
            "Deleted: /content/drive/MyDrive/SS2025/DAM101/Assignment_4/Melspectogram/Dzongkha/Latest Hit Song ｜｜ Bhutanese Popular song_song1_clip4_10s_01.wav\n",
            "Deleted: /content/drive/MyDrive/SS2025/DAM101/Assignment_4/Melspectogram/Dzongkha/Latest Hit Song ｜｜ Bhutanese Popular song_song4_clip3_10s_01.wav\n",
            "Deleted: /content/drive/MyDrive/SS2025/DAM101/Assignment_4/Melspectogram/Dzongkha/Old Bhutanese songs ｜ Jigme Nidup and Dechen Pem Songs ｜ singer Jigme Nidup & Dechen Pem songs_song5_clip6_10s_01.wav\n",
            "Deleted: /content/drive/MyDrive/SS2025/DAM101/Assignment_4/Melspectogram/Dzongkha/Old Bhutanese songs ｜ Jigme Nidup and Dechen Pem Songs ｜ singer Jigme Nidup & Dechen Pem songs_song2_clip5_10s_01.wav\n",
            "Deleted: /content/drive/MyDrive/SS2025/DAM101/Assignment_4/Melspectogram/Dzongkha/Old Bhutanese songs ｜ Jigme Nidup and Dechen Pem Songs ｜ singer Jigme Nidup & Dechen Pem songs_song1_clip1_10s_01.wav\n",
            "Deleted: /content/drive/MyDrive/SS2025/DAM101/Assignment_4/Melspectogram/Dzongkha/Old Bhutanese songs ｜ Jigme Nidup and Dechen Pem Songs ｜ singer Jigme Nidup & Dechen Pem songs_song4_clip3_10s_01.wav\n",
            "Deleted: /content/drive/MyDrive/SS2025/DAM101/Assignment_4/Melspectogram/Dzongkha/Song thongchen ngay sem from 2009 Hago na Mey Bhutanese Music Video_song1_clip1_10s_01.wav\n",
            "Deleted: /content/drive/MyDrive/SS2025/DAM101/Assignment_4/Melspectogram/Dzongkha/Old Bhutanese songs ｜ Jigme Nidup and Dechen Pem Songs ｜ singer Jigme Nidup & Dechen Pem songs_song3_clip3_10s_01.wav\n",
            "Deleted: /content/drive/MyDrive/SS2025/DAM101/Assignment_4/Melspectogram/Dzongkha/Bjep Tenzin Vs Nyingtob songs_song1_clip5_10s_01.wav\n",
            "Deleted: /content/drive/MyDrive/SS2025/DAM101/Assignment_4/Melspectogram/Dzongkha/Bhutanese sad songs of Dechen Pem_song2_clip6_10s_01.wav\n",
            "Deleted: /content/drive/MyDrive/SS2025/DAM101/Assignment_4/Melspectogram/Dzongkha/Bjep Tenzin Vs Nyingtob songs_song3_clip1_10s_01.wav\n",
            "Deleted: /content/drive/MyDrive/SS2025/DAM101/Assignment_4/Melspectogram/Dzongkha/DHUETSHEY by @kuengaaa  (Official Music Video)_part2_10s_01.wav\n",
            "Deleted: /content/drive/MyDrive/SS2025/DAM101/Assignment_4/Melspectogram/Dzongkha/SONAM WNGDI TOP SONGS 2022 ｜｜ BHUTANESE NEW SONGS 2022｜｜_chunk27_clip1_10s_01.wav\n",
            "Deleted: /content/drive/MyDrive/SS2025/DAM101/Assignment_4/Melspectogram/Dzongkha/SONAM WNGDI TOP SONGS 2022 ｜｜ BHUTANESE NEW SONGS 2022｜｜_chunk33_clip1_10s_01.wav\n",
            "Deleted: /content/drive/MyDrive/SS2025/DAM101/Assignment_4/Melspectogram/Dzongkha/SONAM WNGDI TOP SONGS 2022 ｜｜ BHUTANESE NEW SONGS 2022｜｜_chunk31_clip1_10s_01.wav\n",
            "Deleted: /content/drive/MyDrive/SS2025/DAM101/Assignment_4/Melspectogram/Dzongkha/JOYI JOYI by @Ngawang.Thinley x @ETSU.   ｜  ⁨@tashi_yy  (OfficialMusic Video)_part1_10s_01.wav\n",
            "Deleted: /content/drive/MyDrive/SS2025/DAM101/Assignment_4/Melspectogram/Dzongkha/SONAM WNGDI TOP SONGS 2022 ｜｜ BHUTANESE NEW SONGS 2022｜｜_chunk30_clip1_10s_01.wav\n",
            "Deleted: /content/drive/MyDrive/SS2025/DAM101/Assignment_4/Melspectogram/Dzongkha/SONAM WNGDI TOP SONGS 2022 ｜｜ BHUTANESE NEW SONGS 2022｜｜_chunk22_clip1_10s_01.wav\n",
            "Deleted: /content/drive/MyDrive/SS2025/DAM101/Assignment_4/Melspectogram/Dzongkha/SONAM WNGDI TOP SONGS 2022 ｜｜ BHUTANESE NEW SONGS 2022｜｜_chunk26_clip2_10s_01.wav\n",
            "Deleted: /content/drive/MyDrive/SS2025/DAM101/Assignment_4/Melspectogram/Dzongkha/SONAM WNGDI TOP SONGS 2022 ｜｜ BHUTANESE NEW SONGS 2022｜｜_chunk25_clip1_10s_01.wav\n",
            "Deleted: /content/drive/MyDrive/SS2025/DAM101/Assignment_4/Melspectogram/Dzongkha/SONAM WNGDI TOP SONGS 2022 ｜｜ BHUTANESE NEW SONGS 2022｜｜_chunk29_clip1_10s_01.wav\n",
            "Deleted: /content/drive/MyDrive/SS2025/DAM101/Assignment_4/Melspectogram/Dzongkha/SONAM WNGDI TOP SONGS 2022 ｜｜ BHUTANESE NEW SONGS 2022｜｜_chunk24_clip1_10s_01.wav\n",
            "Deleted: /content/drive/MyDrive/SS2025/DAM101/Assignment_4/Melspectogram/Dzongkha/SONAM WNGDI TOP SONGS 2022 ｜｜ BHUTANESE NEW SONGS 2022｜｜_chunk20_clip2_10s_01.wav\n",
            "Deleted: /content/drive/MyDrive/SS2025/DAM101/Assignment_4/Melspectogram/Dzongkha/SONAM WNGDI TOP SONGS 2022 ｜｜ BHUTANESE NEW SONGS 2022｜｜_chunk23_clip1_10s_01.wav\n",
            "Deleted: /content/drive/MyDrive/SS2025/DAM101/Assignment_4/Melspectogram/Dzongkha/SONAM WNGDI TOP SONGS 2022 ｜｜ BHUTANESE NEW SONGS 2022｜｜_chunk19_clip1_10s_01.wav\n",
            "Deleted: /content/drive/MyDrive/SS2025/DAM101/Assignment_4/Melspectogram/Dzongkha/SONAM WNGDI TOP SONGS 2022 ｜｜ BHUTANESE NEW SONGS 2022｜｜_chunk18_clip1_10s_01.wav\n",
            "Deleted: /content/drive/MyDrive/SS2025/DAM101/Assignment_4/Melspectogram/Dzongkha/SONAM WNGDI TOP SONGS 2022 ｜｜ BHUTANESE NEW SONGS 2022｜｜_chunk17_clip1_10s_01.wav\n",
            "Deleted: /content/drive/MyDrive/SS2025/DAM101/Assignment_4/Melspectogram/Dzongkha/SONAM WNGDI TOP SONGS 2022 ｜｜ BHUTANESE NEW SONGS 2022｜｜_chunk16_clip2_10s_01.wav\n",
            "Deleted: /content/drive/MyDrive/SS2025/DAM101/Assignment_4/Melspectogram/Dzongkha/SONAM WNGDI TOP SONGS 2022 ｜｜ BHUTANESE NEW SONGS 2022｜｜_chunk15_clip1_10s_01.wav\n",
            "Deleted: /content/drive/MyDrive/SS2025/DAM101/Assignment_4/Melspectogram/Dzongkha/SONAM WNGDI TOP SONGS 2022 ｜｜ BHUTANESE NEW SONGS 2022｜｜_chunk12_clip2_10s_01.wav\n",
            "Deleted: /content/drive/MyDrive/SS2025/DAM101/Assignment_4/Melspectogram/Dzongkha/SONAM WNGDI TOP SONGS 2022 ｜｜ BHUTANESE NEW SONGS 2022｜｜_chunk7_clip1_10s_01.wav\n",
            "Deleted: /content/drive/MyDrive/SS2025/DAM101/Assignment_4/Melspectogram/Dzongkha/SONAM WNGDI TOP SONGS 2022 ｜｜ BHUTANESE NEW SONGS 2022｜｜_chunk14_clip2_10s_01.wav\n",
            "Deleted: /content/drive/MyDrive/SS2025/DAM101/Assignment_4/Melspectogram/Dzongkha/SONAM WNGDI TOP SONGS 2022 ｜｜ BHUTANESE NEW SONGS 2022｜｜_chunk9_clip2_10s_01.wav\n",
            "Deleted: /content/drive/MyDrive/SS2025/DAM101/Assignment_4/Melspectogram/Dzongkha/SONAM WNGDI TOP SONGS 2022 ｜｜ BHUTANESE NEW SONGS 2022｜｜_chunk3_clip2_10s_01.wav\n",
            "Deleted: /content/drive/MyDrive/SS2025/DAM101/Assignment_4/Melspectogram/Dzongkha/SONAM WNGDI TOP SONGS 2022 ｜｜ BHUTANESE NEW SONGS 2022｜｜_chunk13_clip4_10s_01.wav\n",
            "Deleted: /content/drive/MyDrive/SS2025/DAM101/Assignment_4/Melspectogram/Dzongkha/SONAM WNGDI TOP SONGS 2022 ｜｜ BHUTANESE NEW SONGS 2022｜｜_chunk6_clip1_10s_01.wav\n",
            "Deleted: /content/drive/MyDrive/SS2025/DAM101/Assignment_4/Melspectogram/Dzongkha/SONAM WNGDI TOP SONGS 2022 ｜｜ BHUTANESE NEW SONGS 2022｜｜_chunk11_clip2_10s_01.wav\n",
            "Deleted: /content/drive/MyDrive/SS2025/DAM101/Assignment_4/Melspectogram/Dzongkha/SONAM WNGDI TOP SONGS 2022 ｜｜ BHUTANESE NEW SONGS 2022｜｜_chunk8_clip2_10s_01.wav\n",
            "Deleted: /content/drive/MyDrive/SS2025/DAM101/Assignment_4/Melspectogram/Dzongkha/PHUDOSA- Sonam Wangchen ft. Tashi Kheldon Dorji and The Monarchs @YeshiLhendupFilms ｜ Music Video_song11_clip1_10s_01.wav\n",
            "Deleted: /content/drive/MyDrive/SS2025/DAM101/Assignment_4/Melspectogram/Dzongkha/SONAM WNGDI TOP SONGS 2022 ｜｜ BHUTANESE NEW SONGS 2022｜｜_chunk2_clip1_10s_01.wav\n",
            "Deleted: /content/drive/MyDrive/SS2025/DAM101/Assignment_4/Melspectogram/Dzongkha/Aum_Penjor_Full_song_BTN_Tshering_Dorji_Karma_Jerry_Tandin_Bidha_Ugyen_Seldon__clip8_10s_01.wav\n",
            "Deleted: /content/drive/MyDrive/SS2025/DAM101/Assignment_4/Melspectogram/Dzongkha/Aum_Penjor_Full_song_BTN_Tshering_Dorji_Karma_Jerry_Tandin_Bidha_Ugyen_Seldon__clip9_10s_01.wav\n",
            "Deleted: /content/drive/MyDrive/SS2025/DAM101/Assignment_4/Melspectogram/Dzongkha/Aum_Penjor_Full_song_BTN_Tshering_Dorji_Karma_Jerry_Tandin_Bidha_Ugyen_Seldon__clip5_10s_01.wav\n",
            "Deleted: /content/drive/MyDrive/SS2025/DAM101/Assignment_4/Melspectogram/Dzongkha/Aum_Penjor_Full_song_BTN_Tshering_Dorji_Karma_Jerry_Tandin_Bidha_Ugyen_Seldon__clip7_10s_01.wav\n",
            "Deleted: /content/drive/MyDrive/SS2025/DAM101/Assignment_4/Melspectogram/Dzongkha/Aum_Penjor_Full_song_BTN_Tshering_Dorji_Karma_Jerry_Tandin_Bidha_Ugyen_Seldon__clip6_10s_01.wav\n",
            "Deleted: /content/drive/MyDrive/SS2025/DAM101/Assignment_4/Melspectogram/Dzongkha/Aum_Penjor_Full_song_BTN_Tshering_Dorji_Karma_Jerry_Tandin_Bidha_Ugyen_Seldon__clip3_10s_01.wav\n",
            "Deleted: /content/drive/MyDrive/SS2025/DAM101/Assignment_4/Melspectogram/Dzongkha/Aum_Penjor_Full_song_BTN_Tshering_Dorji_Karma_Jerry_Tandin_Bidha_Ugyen_Seldon__clip4_10s_01.wav\n",
            "Deleted: /content/drive/MyDrive/SS2025/DAM101/Assignment_4/Melspectogram/Dzongkha/MA JAY MAY by ​⁠@ugay03  (Official Music Video)_song2_part5_10s_01.wav\n",
            "Deleted: /content/drive/MyDrive/SS2025/DAM101/Assignment_4/Melspectogram/Dzongkha/Aum_Penjor_Full_song_BTN_Tshering_Dorji_Karma_Jerry_Tandin_Bidha_Ugyen_Seldon__clip2_10s_01.wav\n",
            "Deleted: /content/drive/MyDrive/SS2025/DAM101/Assignment_4/Melspectogram/Dzongkha/Bhutanese New Song ｜｜ March & April 2025 release_song8_clip1_10s_01.wav\n",
            "Deleted: /content/drive/MyDrive/SS2025/DAM101/Assignment_4/Melspectogram/Dzongkha/Aum_Penjor_Full_song_BTN_Tshering_Dorji_Karma_Jerry_Tandin_Bidha_Ugyen_Seldon__clip1_10s_01.wav\n",
            "Deleted: /content/drive/MyDrive/SS2025/DAM101/Assignment_4/Melspectogram/Dzongkha/Song thongchen ngay sem from 2009 Hago na Mey Bhutanese Music Video_clip_01.wav\n",
            "Deleted: /content/drive/MyDrive/SS2025/DAM101/Assignment_4/Melspectogram/Dzongkha/PAROP ZAM ⧸ Hemlal Darjee⧸ Pema Deki_part2_10s_01.wav\n",
            "Deleted: /content/drive/MyDrive/SS2025/DAM101/Assignment_4/Melspectogram/Dzongkha/Bhutanese New Song ｜｜ March & April 2025 release_song7_clip1_10s_01.wav\n",
            "Deleted: /content/drive/MyDrive/SS2025/DAM101/Assignment_4/Melspectogram/Dzongkha/MA JAY MAY by ​⁠@ugay03  (Official Music Video)_song1_part6_10s_01.wav\n",
            "Deleted: /content/drive/MyDrive/SS2025/DAM101/Assignment_4/Melspectogram/Dzongkha/SAYA - REBELLIONS BHUTAN [ Official Music Video ]_song1_clip11_10s_01.wav\n",
            "Deleted: /content/drive/MyDrive/SS2025/DAM101/Assignment_4/Melspectogram/Dzongkha/Phuntsho Wangdi's song collection 2024 ｜｜Bhutanese hits｜｜ Bhutanese songs_song1_clip8_10s_01.wav\n",
            "Deleted: /content/drive/MyDrive/SS2025/DAM101/Assignment_4/Melspectogram/Dzongkha/ZUKI - Sonam Wangchen ｜ Tensin Yangden Dorje ｜ @YeshiLhendupFilms_part2_10s_01.wav\n",
            "Deleted: /content/drive/MyDrive/SS2025/DAM101/Assignment_4/Melspectogram/Dzongkha/Bhutanese New Song ｜｜ March & April 2025 release_song3_clip1_10s_01.wav\n",
            "Deleted: /content/drive/MyDrive/SS2025/DAM101/Assignment_4/Melspectogram/Dzongkha/Bhutanese New Song ｜｜ March & April 2025 release_song5_clip2_10s_01.wav\n",
            "Deleted: /content/drive/MyDrive/SS2025/DAM101/Assignment_4/Melspectogram/Dzongkha/Bhutanese New Song ｜｜ March & April 2025 release_song9_clip1_10s_01.wav\n",
            "Deleted: /content/drive/MyDrive/SS2025/DAM101/Assignment_4/Melspectogram/Dzongkha/Bhutanese New Song ｜｜ March & April 2025 release_song6_clip6_10s_01.wav\n",
            "Deleted: /content/drive/MyDrive/SS2025/DAM101/Assignment_4/Melspectogram/Dzongkha/Bjep Tenzin Vs Nyingtob songs_song6_clip8_10s_01.wav\n",
            "Deleted: /content/drive/MyDrive/SS2025/DAM101/Assignment_4/Melspectogram/Dzongkha/Bhutanese New Song ｜｜ March & April 2025 release_song2_clip4_10s_01.wav\n",
            "Deleted: /content/drive/MyDrive/SS2025/DAM101/Assignment_4/Melspectogram/Dzongkha/Bhutanese New Song ｜｜ March & April 2025 release_song4_clip2_10s_01.wav\n",
            "Deleted: /content/drive/MyDrive/SS2025/DAM101/Assignment_4/Melspectogram/Dzongkha/Bhutanese New Song ｜｜ March & April 2025 release_song1_clip4_10s_01.wav\n",
            "Deleted: /content/drive/MyDrive/SS2025/DAM101/Assignment_4/Melspectogram/Dzongkha/Bjep Tenzin Vs Nyingtob songs_song2_clip3_10s_01.wav\n",
            "Deleted: /content/drive/MyDrive/SS2025/DAM101/Assignment_4/Melspectogram/Dzongkha/THERI BARI ｜ KUENZANG LHAMO & DORJI TENZIN ｜ OFFICIAL MUSIC VIDEO 2025_part1_10s_01.wav\n",
            "Deleted: /content/drive/MyDrive/SS2025/DAM101/Assignment_4/Melspectogram/Dzongkha/Bjep Tenzin Vs Nyingtob songs_song5_clip3_10s_01.wav\n",
            "Deleted: /content/drive/MyDrive/SS2025/DAM101/Assignment_4/Melspectogram/Dzongkha/Bjep Tenzin Vs Nyingtob songs_song4_clip7_10s_01.wav\n",
            "Deleted: /content/drive/MyDrive/SS2025/DAM101/Assignment_4/Melspectogram/Dzongkha/Bjep Tenzin Vs Nyingtob songs_song9_clip6_10s_01.wav\n",
            "Deleted: /content/drive/MyDrive/SS2025/DAM101/Assignment_4/Melspectogram/Dzongkha/Bjep Tenzin Vs Nyingtob songs_song10_clip6_10s_01.wav\n"
          ]
        }
      ],
      "source": [
        "import os\n",
        "\n",
        "def delete_non_npy_files(root_dir):\n",
        "    for foldername, subfolders, filenames in os.walk(root_dir):\n",
        "        for filename in filenames:\n",
        "            if not filename.endswith('.npy'):\n",
        "                file_path = os.path.join(foldername, filename)\n",
        "                try:\n",
        "                    os.remove(file_path)\n",
        "                    print(f\"Deleted: {file_path}\")\n",
        "                except Exception as e:\n",
        "                    print(f\"Error deleting {file_path}: {e}\")\n",
        "\n",
        "# Replace this with your directory path\n",
        "root_directory = \"/content/drive/MyDrive/SS2025/DAM101/Assignment_4/Melspectogram\"\n",
        "delete_non_npy_files(root_directory)\n"
      ]
    },
    {
      "cell_type": "code",
      "execution_count": null,
      "metadata": {
        "colab": {
          "background_save": true,
          "base_uri": "https://localhost:8080/"
        },
        "id": "vwhxfwbgnYik",
        "outputId": "740d4111-180e-41f3-b66a-425845f8e7b4"
      },
      "outputs": [
        {
          "name": "stdout",
          "output_type": "stream",
          "text": [
            "Loading dataset...\n",
            "Loaded 16851 samples\n",
            "Sample 0: x shape = torch.Size([4, 128, 313]), label = 1\n",
            "Sample 1: x shape = torch.Size([4, 128, 313]), label = 1\n",
            "Sample 2: x shape = torch.Size([4, 128, 313]), label = 1\n",
            "Model loaded successfully!\n",
            "Evaluating on 16851 samples with batch size 8 ...\n"
          ]
        },
        {
          "name": "stderr",
          "output_type": "stream",
          "text": [
            "Evaluating:   0%|          | 1/2107 [00:01<50:32,  1.44s/it]"
          ]
        },
        {
          "name": "stdout",
          "output_type": "stream",
          "text": [
            "Batch 1 Accuracy so far: 0.0000\n"
          ]
        },
        {
          "name": "stderr",
          "output_type": "stream",
          "text": [
            "Evaluating:   0%|          | 10/2107 [00:10<33:27,  1.04it/s]"
          ]
        },
        {
          "name": "stdout",
          "output_type": "stream",
          "text": [
            "Batch 10 Accuracy so far: 0.0000\n"
          ]
        },
        {
          "name": "stderr",
          "output_type": "stream",
          "text": [
            "Evaluating:   1%|          | 20/2107 [00:20<33:49,  1.03it/s]"
          ]
        },
        {
          "name": "stdout",
          "output_type": "stream",
          "text": [
            "Batch 20 Accuracy so far: 0.0000\n"
          ]
        },
        {
          "name": "stderr",
          "output_type": "stream",
          "text": [
            "Evaluating:   1%|▏         | 30/2107 [00:31<38:01,  1.10s/it]"
          ]
        },
        {
          "name": "stdout",
          "output_type": "stream",
          "text": [
            "Batch 30 Accuracy so far: 0.0000\n"
          ]
        },
        {
          "name": "stderr",
          "output_type": "stream",
          "text": [
            "Evaluating:   2%|▏         | 40/2107 [00:41<39:01,  1.13s/it]"
          ]
        },
        {
          "name": "stdout",
          "output_type": "stream",
          "text": [
            "Batch 40 Accuracy so far: 0.0000\n"
          ]
        },
        {
          "name": "stderr",
          "output_type": "stream",
          "text": [
            "Evaluating:   2%|▏         | 50/2107 [00:52<32:20,  1.06it/s]"
          ]
        },
        {
          "name": "stdout",
          "output_type": "stream",
          "text": [
            "Batch 50 Accuracy so far: 0.0000\n"
          ]
        },
        {
          "name": "stderr",
          "output_type": "stream",
          "text": [
            "Evaluating:   3%|▎         | 60/2107 [01:03<34:24,  1.01s/it]"
          ]
        },
        {
          "name": "stdout",
          "output_type": "stream",
          "text": [
            "Batch 60 Accuracy so far: 0.0000\n"
          ]
        },
        {
          "name": "stderr",
          "output_type": "stream",
          "text": [
            "Evaluating:   3%|▎         | 70/2107 [01:13<41:32,  1.22s/it]"
          ]
        },
        {
          "name": "stdout",
          "output_type": "stream",
          "text": [
            "Batch 70 Accuracy so far: 0.0000\n"
          ]
        },
        {
          "name": "stderr",
          "output_type": "stream",
          "text": [
            "Evaluating:   4%|▍         | 80/2107 [01:23<31:17,  1.08it/s]"
          ]
        },
        {
          "name": "stdout",
          "output_type": "stream",
          "text": [
            "Batch 80 Accuracy so far: 0.0000\n"
          ]
        },
        {
          "name": "stderr",
          "output_type": "stream",
          "text": [
            "Evaluating:   4%|▍         | 90/2107 [01:34<32:07,  1.05it/s]"
          ]
        },
        {
          "name": "stdout",
          "output_type": "stream",
          "text": [
            "Batch 90 Accuracy so far: 0.0000\n"
          ]
        },
        {
          "name": "stderr",
          "output_type": "stream",
          "text": [
            "Evaluating:   5%|▍         | 100/2107 [01:44<34:55,  1.04s/it]"
          ]
        },
        {
          "name": "stdout",
          "output_type": "stream",
          "text": [
            "Batch 100 Accuracy so far: 0.0000\n"
          ]
        },
        {
          "name": "stderr",
          "output_type": "stream",
          "text": [
            "Evaluating:   5%|▌         | 110/2107 [01:55<39:37,  1.19s/it]"
          ]
        },
        {
          "name": "stdout",
          "output_type": "stream",
          "text": [
            "Batch 110 Accuracy so far: 0.0000\n"
          ]
        },
        {
          "name": "stderr",
          "output_type": "stream",
          "text": [
            "Evaluating:   6%|▌         | 120/2107 [02:04<30:59,  1.07it/s]"
          ]
        },
        {
          "name": "stdout",
          "output_type": "stream",
          "text": [
            "Batch 120 Accuracy so far: 0.0000\n"
          ]
        },
        {
          "name": "stderr",
          "output_type": "stream",
          "text": [
            "Evaluating:   6%|▌         | 130/2107 [02:17<38:50,  1.18s/it]"
          ]
        },
        {
          "name": "stdout",
          "output_type": "stream",
          "text": [
            "Batch 130 Accuracy so far: 0.0000\n"
          ]
        },
        {
          "name": "stderr",
          "output_type": "stream",
          "text": [
            "Evaluating:   7%|▋         | 140/2107 [02:28<35:02,  1.07s/it]"
          ]
        },
        {
          "name": "stdout",
          "output_type": "stream",
          "text": [
            "Batch 140 Accuracy so far: 0.0000\n"
          ]
        },
        {
          "name": "stderr",
          "output_type": "stream",
          "text": [
            "Evaluating:   7%|▋         | 150/2107 [02:38<39:33,  1.21s/it]"
          ]
        },
        {
          "name": "stdout",
          "output_type": "stream",
          "text": [
            "Batch 150 Accuracy so far: 0.0000\n"
          ]
        },
        {
          "name": "stderr",
          "output_type": "stream",
          "text": [
            "Evaluating:   8%|▊         | 160/2107 [02:48<30:26,  1.07it/s]"
          ]
        },
        {
          "name": "stdout",
          "output_type": "stream",
          "text": [
            "Batch 160 Accuracy so far: 0.0000\n"
          ]
        },
        {
          "name": "stderr",
          "output_type": "stream",
          "text": [
            "Evaluating:   8%|▊         | 170/2107 [02:59<31:39,  1.02it/s]"
          ]
        },
        {
          "name": "stdout",
          "output_type": "stream",
          "text": [
            "Batch 170 Accuracy so far: 0.0000\n"
          ]
        },
        {
          "name": "stderr",
          "output_type": "stream",
          "text": [
            "Evaluating:   9%|▊         | 180/2107 [03:09<36:22,  1.13s/it]"
          ]
        },
        {
          "name": "stdout",
          "output_type": "stream",
          "text": [
            "Batch 180 Accuracy so far: 0.0000\n"
          ]
        },
        {
          "name": "stderr",
          "output_type": "stream",
          "text": [
            "Evaluating:   9%|▉         | 190/2107 [03:19<32:27,  1.02s/it]"
          ]
        },
        {
          "name": "stdout",
          "output_type": "stream",
          "text": [
            "Batch 190 Accuracy so far: 0.0000\n"
          ]
        },
        {
          "name": "stderr",
          "output_type": "stream",
          "text": [
            "Evaluating:   9%|▉         | 200/2107 [03:29<29:55,  1.06it/s]"
          ]
        },
        {
          "name": "stdout",
          "output_type": "stream",
          "text": [
            "Batch 200 Accuracy so far: 0.0000\n"
          ]
        },
        {
          "name": "stderr",
          "output_type": "stream",
          "text": [
            "Evaluating:  10%|▉         | 210/2107 [03:40<32:09,  1.02s/it]"
          ]
        },
        {
          "name": "stdout",
          "output_type": "stream",
          "text": [
            "Batch 210 Accuracy so far: 0.0000\n"
          ]
        },
        {
          "name": "stderr",
          "output_type": "stream",
          "text": [
            "Evaluating:  10%|█         | 220/2107 [03:51<39:08,  1.24s/it]"
          ]
        },
        {
          "name": "stdout",
          "output_type": "stream",
          "text": [
            "Batch 220 Accuracy so far: 0.0000\n"
          ]
        },
        {
          "name": "stderr",
          "output_type": "stream",
          "text": [
            "Evaluating:  11%|█         | 230/2107 [04:00<29:06,  1.07it/s]"
          ]
        },
        {
          "name": "stdout",
          "output_type": "stream",
          "text": [
            "Batch 230 Accuracy so far: 0.0000\n"
          ]
        },
        {
          "name": "stderr",
          "output_type": "stream",
          "text": [
            "Evaluating:  11%|█▏        | 240/2107 [04:11<30:07,  1.03it/s]"
          ]
        },
        {
          "name": "stdout",
          "output_type": "stream",
          "text": [
            "Batch 240 Accuracy so far: 0.0000\n"
          ]
        },
        {
          "name": "stderr",
          "output_type": "stream",
          "text": [
            "Evaluating:  12%|█▏        | 250/2107 [04:22<34:11,  1.10s/it]"
          ]
        },
        {
          "name": "stdout",
          "output_type": "stream",
          "text": [
            "Batch 250 Accuracy so far: 0.0000\n"
          ]
        },
        {
          "name": "stderr",
          "output_type": "stream",
          "text": [
            "Evaluating:  12%|█▏        | 260/2107 [04:32<32:51,  1.07s/it]"
          ]
        },
        {
          "name": "stdout",
          "output_type": "stream",
          "text": [
            "Batch 260 Accuracy so far: 0.0000\n"
          ]
        },
        {
          "name": "stderr",
          "output_type": "stream",
          "text": [
            "Evaluating:  13%|█▎        | 270/2107 [04:42<28:48,  1.06it/s]"
          ]
        },
        {
          "name": "stdout",
          "output_type": "stream",
          "text": [
            "Batch 270 Accuracy so far: 0.0000\n"
          ]
        },
        {
          "name": "stderr",
          "output_type": "stream",
          "text": [
            "Evaluating:  13%|█▎        | 280/2107 [04:53<30:34,  1.00s/it]"
          ]
        },
        {
          "name": "stdout",
          "output_type": "stream",
          "text": [
            "Batch 280 Accuracy so far: 0.0000\n"
          ]
        },
        {
          "name": "stderr",
          "output_type": "stream",
          "text": [
            "Evaluating:  14%|█▍        | 290/2107 [05:04<38:20,  1.27s/it]"
          ]
        },
        {
          "name": "stdout",
          "output_type": "stream",
          "text": [
            "Batch 290 Accuracy so far: 0.0000\n"
          ]
        },
        {
          "name": "stderr",
          "output_type": "stream",
          "text": [
            "Evaluating:  14%|█▍        | 300/2107 [05:13<27:46,  1.08it/s]"
          ]
        },
        {
          "name": "stdout",
          "output_type": "stream",
          "text": [
            "Batch 300 Accuracy so far: 0.0000\n"
          ]
        },
        {
          "name": "stderr",
          "output_type": "stream",
          "text": [
            "Evaluating:  15%|█▍        | 310/2107 [05:23<28:39,  1.05it/s]"
          ]
        },
        {
          "name": "stdout",
          "output_type": "stream",
          "text": [
            "Batch 310 Accuracy so far: 0.0000\n"
          ]
        },
        {
          "name": "stderr",
          "output_type": "stream",
          "text": [
            "Evaluating:  15%|█▌        | 320/2107 [05:34<32:22,  1.09s/it]"
          ]
        },
        {
          "name": "stdout",
          "output_type": "stream",
          "text": [
            "Batch 320 Accuracy so far: 0.0000\n"
          ]
        },
        {
          "name": "stderr",
          "output_type": "stream",
          "text": [
            "Evaluating:  16%|█▌        | 330/2107 [05:44<32:44,  1.11s/it]"
          ]
        },
        {
          "name": "stdout",
          "output_type": "stream",
          "text": [
            "Batch 330 Accuracy so far: 0.0000\n"
          ]
        },
        {
          "name": "stderr",
          "output_type": "stream",
          "text": [
            "Evaluating:  16%|█▌        | 340/2107 [05:54<27:16,  1.08it/s]"
          ]
        },
        {
          "name": "stdout",
          "output_type": "stream",
          "text": [
            "Batch 340 Accuracy so far: 0.0000\n"
          ]
        },
        {
          "name": "stderr",
          "output_type": "stream",
          "text": [
            "Evaluating:  17%|█▋        | 350/2107 [06:05<29:10,  1.00it/s]"
          ]
        },
        {
          "name": "stdout",
          "output_type": "stream",
          "text": [
            "Batch 350 Accuracy so far: 0.0000\n"
          ]
        },
        {
          "name": "stderr",
          "output_type": "stream",
          "text": [
            "Evaluating:  17%|█▋        | 360/2107 [06:16<35:44,  1.23s/it]"
          ]
        },
        {
          "name": "stdout",
          "output_type": "stream",
          "text": [
            "Batch 360 Accuracy so far: 0.0000\n"
          ]
        },
        {
          "name": "stderr",
          "output_type": "stream",
          "text": [
            "Evaluating:  18%|█▊        | 370/2107 [06:25<26:39,  1.09it/s]"
          ]
        },
        {
          "name": "stdout",
          "output_type": "stream",
          "text": [
            "Batch 370 Accuracy so far: 0.0000\n"
          ]
        },
        {
          "name": "stderr",
          "output_type": "stream",
          "text": [
            "Evaluating:  18%|█▊        | 380/2107 [06:38<30:08,  1.05s/it]"
          ]
        },
        {
          "name": "stdout",
          "output_type": "stream",
          "text": [
            "Batch 380 Accuracy so far: 0.0000\n"
          ]
        },
        {
          "name": "stderr",
          "output_type": "stream",
          "text": [
            "Evaluating:  19%|█▊        | 390/2107 [06:48<33:47,  1.18s/it]"
          ]
        },
        {
          "name": "stdout",
          "output_type": "stream",
          "text": [
            "Batch 390 Accuracy so far: 0.0000\n"
          ]
        },
        {
          "name": "stderr",
          "output_type": "stream",
          "text": [
            "Evaluating:  19%|█▉        | 400/2107 [06:58<26:17,  1.08it/s]"
          ]
        },
        {
          "name": "stdout",
          "output_type": "stream",
          "text": [
            "Batch 400 Accuracy so far: 0.0000\n"
          ]
        },
        {
          "name": "stderr",
          "output_type": "stream",
          "text": [
            "Evaluating:  19%|█▉        | 410/2107 [07:08<26:47,  1.06it/s]"
          ]
        },
        {
          "name": "stdout",
          "output_type": "stream",
          "text": [
            "Batch 410 Accuracy so far: 0.0000\n"
          ]
        },
        {
          "name": "stderr",
          "output_type": "stream",
          "text": [
            "Evaluating:  20%|█▉        | 420/2107 [07:19<29:19,  1.04s/it]"
          ]
        },
        {
          "name": "stdout",
          "output_type": "stream",
          "text": [
            "Batch 420 Accuracy so far: 0.0000\n"
          ]
        },
        {
          "name": "stderr",
          "output_type": "stream",
          "text": [
            "Evaluating:  20%|██        | 430/2107 [07:29<33:22,  1.19s/it]"
          ]
        },
        {
          "name": "stdout",
          "output_type": "stream",
          "text": [
            "Batch 430 Accuracy so far: 0.0000\n"
          ]
        },
        {
          "name": "stderr",
          "output_type": "stream",
          "text": [
            "Evaluating:  21%|██        | 440/2107 [07:39<25:43,  1.08it/s]"
          ]
        },
        {
          "name": "stdout",
          "output_type": "stream",
          "text": [
            "Batch 440 Accuracy so far: 0.0000\n"
          ]
        },
        {
          "name": "stderr",
          "output_type": "stream",
          "text": [
            "Evaluating:  21%|██▏       | 450/2107 [07:50<26:46,  1.03it/s]"
          ]
        },
        {
          "name": "stdout",
          "output_type": "stream",
          "text": [
            "Batch 450 Accuracy so far: 0.0000\n"
          ]
        },
        {
          "name": "stderr",
          "output_type": "stream",
          "text": [
            "Evaluating:  22%|██▏       | 460/2107 [08:01<31:57,  1.16s/it]"
          ]
        },
        {
          "name": "stdout",
          "output_type": "stream",
          "text": [
            "Batch 460 Accuracy so far: 0.0000\n"
          ]
        },
        {
          "name": "stderr",
          "output_type": "stream",
          "text": [
            "Evaluating:  22%|██▏       | 470/2107 [08:10<27:42,  1.02s/it]"
          ]
        },
        {
          "name": "stdout",
          "output_type": "stream",
          "text": [
            "Batch 470 Accuracy so far: 0.0000\n"
          ]
        },
        {
          "name": "stderr",
          "output_type": "stream",
          "text": [
            "Evaluating:  23%|██▎       | 480/2107 [08:21<26:01,  1.04it/s]"
          ]
        },
        {
          "name": "stdout",
          "output_type": "stream",
          "text": [
            "Batch 480 Accuracy so far: 0.0000\n"
          ]
        },
        {
          "name": "stderr",
          "output_type": "stream",
          "text": [
            "Evaluating:  23%|██▎       | 490/2107 [08:32<27:47,  1.03s/it]"
          ]
        },
        {
          "name": "stdout",
          "output_type": "stream",
          "text": [
            "Batch 490 Accuracy so far: 0.0000\n"
          ]
        },
        {
          "name": "stderr",
          "output_type": "stream",
          "text": [
            "Evaluating:  24%|██▎       | 500/2107 [08:43<34:35,  1.29s/it]"
          ]
        },
        {
          "name": "stdout",
          "output_type": "stream",
          "text": [
            "Batch 500 Accuracy so far: 0.0000\n"
          ]
        },
        {
          "name": "stderr",
          "output_type": "stream",
          "text": [
            "Evaluating:  24%|██▍       | 510/2107 [08:53<25:10,  1.06it/s]"
          ]
        },
        {
          "name": "stdout",
          "output_type": "stream",
          "text": [
            "Batch 510 Accuracy so far: 0.0000\n"
          ]
        },
        {
          "name": "stderr",
          "output_type": "stream",
          "text": [
            "Evaluating:  25%|██▍       | 520/2107 [09:04<25:49,  1.02it/s]"
          ]
        },
        {
          "name": "stdout",
          "output_type": "stream",
          "text": [
            "Batch 520 Accuracy so far: 0.0000\n"
          ]
        },
        {
          "name": "stderr",
          "output_type": "stream",
          "text": [
            "Evaluating:  25%|██▌       | 530/2107 [09:15<28:08,  1.07s/it]"
          ]
        },
        {
          "name": "stdout",
          "output_type": "stream",
          "text": [
            "Batch 530 Accuracy so far: 0.0000\n"
          ]
        },
        {
          "name": "stderr",
          "output_type": "stream",
          "text": [
            "Evaluating:  26%|██▌       | 540/2107 [09:25<32:19,  1.24s/it]"
          ]
        },
        {
          "name": "stdout",
          "output_type": "stream",
          "text": [
            "Batch 540 Accuracy so far: 0.0000\n"
          ]
        },
        {
          "name": "stderr",
          "output_type": "stream",
          "text": [
            "Evaluating:  26%|██▌       | 550/2107 [09:35<24:53,  1.04it/s]"
          ]
        },
        {
          "name": "stdout",
          "output_type": "stream",
          "text": [
            "Batch 550 Accuracy so far: 0.0000\n"
          ]
        },
        {
          "name": "stderr",
          "output_type": "stream",
          "text": [
            "Evaluating:  27%|██▋       | 560/2107 [09:46<25:25,  1.01it/s]"
          ]
        },
        {
          "name": "stdout",
          "output_type": "stream",
          "text": [
            "Batch 560 Accuracy so far: 0.0000\n"
          ]
        },
        {
          "name": "stderr",
          "output_type": "stream",
          "text": [
            "Evaluating:  27%|██▋       | 570/2107 [09:57<29:36,  1.16s/it]"
          ]
        },
        {
          "name": "stdout",
          "output_type": "stream",
          "text": [
            "Batch 570 Accuracy so far: 0.0000\n"
          ]
        },
        {
          "name": "stderr",
          "output_type": "stream",
          "text": [
            "Evaluating:  28%|██▊       | 580/2107 [10:07<28:33,  1.12s/it]"
          ]
        },
        {
          "name": "stdout",
          "output_type": "stream",
          "text": [
            "Batch 580 Accuracy so far: 0.0000\n"
          ]
        },
        {
          "name": "stderr",
          "output_type": "stream",
          "text": [
            "Evaluating:  28%|██▊       | 590/2107 [10:18<24:43,  1.02it/s]"
          ]
        },
        {
          "name": "stdout",
          "output_type": "stream",
          "text": [
            "Batch 590 Accuracy so far: 0.0000\n"
          ]
        },
        {
          "name": "stderr",
          "output_type": "stream",
          "text": [
            "Evaluating:  28%|██▊       | 600/2107 [10:29<25:32,  1.02s/it]"
          ]
        },
        {
          "name": "stdout",
          "output_type": "stream",
          "text": [
            "Batch 600 Accuracy so far: 0.0000\n"
          ]
        },
        {
          "name": "stderr",
          "output_type": "stream",
          "text": [
            "Evaluating:  29%|██▉       | 610/2107 [10:40<29:52,  1.20s/it]"
          ]
        },
        {
          "name": "stdout",
          "output_type": "stream",
          "text": [
            "Batch 610 Accuracy so far: 0.0000\n"
          ]
        },
        {
          "name": "stderr",
          "output_type": "stream",
          "text": [
            "Evaluating:  29%|██▉       | 620/2107 [10:52<32:04,  1.29s/it]"
          ]
        },
        {
          "name": "stdout",
          "output_type": "stream",
          "text": [
            "Batch 620 Accuracy so far: 0.0000\n"
          ]
        },
        {
          "name": "stderr",
          "output_type": "stream",
          "text": [
            "Evaluating:  30%|██▉       | 630/2107 [11:02<23:15,  1.06it/s]"
          ]
        },
        {
          "name": "stdout",
          "output_type": "stream",
          "text": [
            "Batch 630 Accuracy so far: 0.0000\n"
          ]
        },
        {
          "name": "stderr",
          "output_type": "stream",
          "text": [
            "Evaluating:  30%|███       | 640/2107 [11:13<24:05,  1.02it/s]"
          ]
        },
        {
          "name": "stdout",
          "output_type": "stream",
          "text": [
            "Batch 640 Accuracy so far: 0.0000\n"
          ]
        },
        {
          "name": "stderr",
          "output_type": "stream",
          "text": [
            "Evaluating:  31%|███       | 650/2107 [11:23<27:57,  1.15s/it]"
          ]
        },
        {
          "name": "stdout",
          "output_type": "stream",
          "text": [
            "Batch 650 Accuracy so far: 0.0000\n"
          ]
        },
        {
          "name": "stderr",
          "output_type": "stream",
          "text": [
            "Evaluating:  31%|███▏      | 660/2107 [11:33<24:04,  1.00it/s]"
          ]
        },
        {
          "name": "stdout",
          "output_type": "stream",
          "text": [
            "Batch 660 Accuracy so far: 0.0000\n"
          ]
        },
        {
          "name": "stderr",
          "output_type": "stream",
          "text": [
            "Evaluating:  32%|███▏      | 670/2107 [11:44<22:44,  1.05it/s]"
          ]
        },
        {
          "name": "stdout",
          "output_type": "stream",
          "text": [
            "Batch 670 Accuracy so far: 0.0000\n"
          ]
        },
        {
          "name": "stderr",
          "output_type": "stream",
          "text": [
            "Evaluating:  32%|███▏      | 680/2107 [11:54<24:27,  1.03s/it]"
          ]
        },
        {
          "name": "stdout",
          "output_type": "stream",
          "text": [
            "Batch 680 Accuracy so far: 0.0000\n"
          ]
        },
        {
          "name": "stderr",
          "output_type": "stream",
          "text": [
            "Evaluating:  33%|███▎      | 690/2107 [12:05<29:05,  1.23s/it]"
          ]
        },
        {
          "name": "stdout",
          "output_type": "stream",
          "text": [
            "Batch 690 Accuracy so far: 0.0000\n"
          ]
        },
        {
          "name": "stderr",
          "output_type": "stream",
          "text": [
            "Evaluating:  33%|███▎      | 700/2107 [12:14<21:48,  1.07it/s]"
          ]
        },
        {
          "name": "stdout",
          "output_type": "stream",
          "text": [
            "Batch 700 Accuracy so far: 0.0000\n"
          ]
        },
        {
          "name": "stderr",
          "output_type": "stream",
          "text": [
            "Evaluating:  34%|███▎      | 710/2107 [12:25<22:34,  1.03it/s]"
          ]
        },
        {
          "name": "stdout",
          "output_type": "stream",
          "text": [
            "Batch 710 Accuracy so far: 0.0000\n"
          ]
        },
        {
          "name": "stderr",
          "output_type": "stream",
          "text": [
            "Evaluating:  34%|███▍      | 720/2107 [12:36<26:03,  1.13s/it]"
          ]
        },
        {
          "name": "stdout",
          "output_type": "stream",
          "text": [
            "Batch 720 Accuracy so far: 0.0000\n"
          ]
        },
        {
          "name": "stderr",
          "output_type": "stream",
          "text": [
            "Evaluating:  35%|███▍      | 730/2107 [12:45<23:08,  1.01s/it]"
          ]
        },
        {
          "name": "stdout",
          "output_type": "stream",
          "text": [
            "Batch 730 Accuracy so far: 0.0000\n"
          ]
        },
        {
          "name": "stderr",
          "output_type": "stream",
          "text": [
            "Evaluating:  35%|███▌      | 740/2107 [12:56<21:18,  1.07it/s]"
          ]
        },
        {
          "name": "stdout",
          "output_type": "stream",
          "text": [
            "Batch 740 Accuracy so far: 0.0000\n"
          ]
        },
        {
          "name": "stderr",
          "output_type": "stream",
          "text": [
            "Evaluating:  36%|███▌      | 750/2107 [13:06<22:59,  1.02s/it]"
          ]
        },
        {
          "name": "stdout",
          "output_type": "stream",
          "text": [
            "Batch 750 Accuracy so far: 0.0000\n"
          ]
        },
        {
          "name": "stderr",
          "output_type": "stream",
          "text": [
            "Evaluating:  36%|███▌      | 760/2107 [13:17<27:59,  1.25s/it]"
          ]
        },
        {
          "name": "stdout",
          "output_type": "stream",
          "text": [
            "Batch 760 Accuracy so far: 0.0000\n"
          ]
        },
        {
          "name": "stderr",
          "output_type": "stream",
          "text": [
            "Evaluating:  37%|███▋      | 770/2107 [13:26<20:38,  1.08it/s]"
          ]
        },
        {
          "name": "stdout",
          "output_type": "stream",
          "text": [
            "Batch 770 Accuracy so far: 0.0000\n"
          ]
        },
        {
          "name": "stderr",
          "output_type": "stream",
          "text": [
            "Evaluating:  37%|███▋      | 780/2107 [13:37<21:34,  1.03it/s]"
          ]
        },
        {
          "name": "stdout",
          "output_type": "stream",
          "text": [
            "Batch 780 Accuracy so far: 0.0000\n"
          ]
        },
        {
          "name": "stderr",
          "output_type": "stream",
          "text": [
            "Evaluating:  37%|███▋      | 790/2107 [13:48<24:01,  1.09s/it]"
          ]
        },
        {
          "name": "stdout",
          "output_type": "stream",
          "text": [
            "Batch 790 Accuracy so far: 0.0000\n"
          ]
        },
        {
          "name": "stderr",
          "output_type": "stream",
          "text": [
            "Evaluating:  38%|███▊      | 800/2107 [13:58<23:28,  1.08s/it]"
          ]
        },
        {
          "name": "stdout",
          "output_type": "stream",
          "text": [
            "Batch 800 Accuracy so far: 0.0000\n"
          ]
        },
        {
          "name": "stderr",
          "output_type": "stream",
          "text": [
            "Evaluating:  38%|███▊      | 810/2107 [14:08<20:17,  1.06it/s]"
          ]
        },
        {
          "name": "stdout",
          "output_type": "stream",
          "text": [
            "Batch 810 Accuracy so far: 0.0000\n"
          ]
        },
        {
          "name": "stderr",
          "output_type": "stream",
          "text": [
            "Evaluating:  39%|███▉      | 820/2107 [14:19<21:49,  1.02s/it]"
          ]
        },
        {
          "name": "stdout",
          "output_type": "stream",
          "text": [
            "Batch 820 Accuracy so far: 0.0000\n"
          ]
        },
        {
          "name": "stderr",
          "output_type": "stream",
          "text": [
            "Evaluating:  39%|███▉      | 830/2107 [14:30<26:43,  1.26s/it]"
          ]
        },
        {
          "name": "stdout",
          "output_type": "stream",
          "text": [
            "Batch 830 Accuracy so far: 0.0000\n"
          ]
        },
        {
          "name": "stderr",
          "output_type": "stream",
          "text": [
            "Evaluating:  40%|███▉      | 840/2107 [14:39<19:40,  1.07it/s]"
          ]
        },
        {
          "name": "stdout",
          "output_type": "stream",
          "text": [
            "Batch 840 Accuracy so far: 0.0000\n"
          ]
        },
        {
          "name": "stderr",
          "output_type": "stream",
          "text": [
            "Evaluating:  40%|████      | 850/2107 [14:50<19:55,  1.05it/s]"
          ]
        },
        {
          "name": "stdout",
          "output_type": "stream",
          "text": [
            "Batch 850 Accuracy so far: 0.0000\n"
          ]
        },
        {
          "name": "stderr",
          "output_type": "stream",
          "text": [
            "Evaluating:  41%|████      | 860/2107 [15:00<22:15,  1.07s/it]"
          ]
        },
        {
          "name": "stdout",
          "output_type": "stream",
          "text": [
            "Batch 860 Accuracy so far: 0.0000\n"
          ]
        },
        {
          "name": "stderr",
          "output_type": "stream",
          "text": [
            "Evaluating:  41%|████▏     | 870/2107 [15:13<26:26,  1.28s/it]"
          ]
        },
        {
          "name": "stdout",
          "output_type": "stream",
          "text": [
            "Batch 870 Accuracy so far: 0.0000\n"
          ]
        },
        {
          "name": "stderr",
          "output_type": "stream",
          "text": [
            "Evaluating:  42%|████▏     | 880/2107 [15:22<19:05,  1.07it/s]"
          ]
        },
        {
          "name": "stdout",
          "output_type": "stream",
          "text": [
            "Batch 880 Accuracy so far: 0.0000\n"
          ]
        },
        {
          "name": "stderr",
          "output_type": "stream",
          "text": [
            "Evaluating:  42%|████▏     | 890/2107 [15:33<19:27,  1.04it/s]"
          ]
        },
        {
          "name": "stdout",
          "output_type": "stream",
          "text": [
            "Batch 890 Accuracy so far: 0.0000\n"
          ]
        },
        {
          "name": "stderr",
          "output_type": "stream",
          "text": [
            "Evaluating:  43%|████▎     | 900/2107 [15:44<21:26,  1.07s/it]"
          ]
        },
        {
          "name": "stdout",
          "output_type": "stream",
          "text": [
            "Batch 900 Accuracy so far: 0.0000\n"
          ]
        },
        {
          "name": "stderr",
          "output_type": "stream",
          "text": [
            "Evaluating:  43%|████▎     | 910/2107 [15:54<22:44,  1.14s/it]"
          ]
        },
        {
          "name": "stdout",
          "output_type": "stream",
          "text": [
            "Batch 910 Accuracy so far: 0.0000\n"
          ]
        },
        {
          "name": "stderr",
          "output_type": "stream",
          "text": [
            "Evaluating:  44%|████▎     | 920/2107 [16:04<18:30,  1.07it/s]"
          ]
        },
        {
          "name": "stdout",
          "output_type": "stream",
          "text": [
            "Batch 920 Accuracy so far: 0.0000\n"
          ]
        },
        {
          "name": "stderr",
          "output_type": "stream",
          "text": [
            "Evaluating:  44%|████▍     | 930/2107 [16:15<19:26,  1.01it/s]"
          ]
        },
        {
          "name": "stdout",
          "output_type": "stream",
          "text": [
            "Batch 930 Accuracy so far: 0.0000\n"
          ]
        },
        {
          "name": "stderr",
          "output_type": "stream",
          "text": [
            "Evaluating:  45%|████▍     | 940/2107 [16:25<23:20,  1.20s/it]"
          ]
        },
        {
          "name": "stdout",
          "output_type": "stream",
          "text": [
            "Batch 940 Accuracy so far: 0.0000\n"
          ]
        },
        {
          "name": "stderr",
          "output_type": "stream",
          "text": [
            "Evaluating:  45%|████▌     | 950/2107 [16:35<18:09,  1.06it/s]"
          ]
        },
        {
          "name": "stdout",
          "output_type": "stream",
          "text": [
            "Batch 950 Accuracy so far: 0.0000\n"
          ]
        },
        {
          "name": "stderr",
          "output_type": "stream",
          "text": [
            "Evaluating:  46%|████▌     | 960/2107 [16:46<18:10,  1.05it/s]"
          ]
        },
        {
          "name": "stdout",
          "output_type": "stream",
          "text": [
            "Batch 960 Accuracy so far: 0.0000\n"
          ]
        },
        {
          "name": "stderr",
          "output_type": "stream",
          "text": [
            "Evaluating:  46%|████▌     | 970/2107 [16:56<19:48,  1.05s/it]"
          ]
        },
        {
          "name": "stdout",
          "output_type": "stream",
          "text": [
            "Batch 970 Accuracy so far: 0.0000\n"
          ]
        },
        {
          "name": "stderr",
          "output_type": "stream",
          "text": [
            "Evaluating:  47%|████▋     | 980/2107 [17:07<22:28,  1.20s/it]"
          ]
        },
        {
          "name": "stdout",
          "output_type": "stream",
          "text": [
            "Batch 980 Accuracy so far: 0.0000\n"
          ]
        },
        {
          "name": "stderr",
          "output_type": "stream",
          "text": [
            "Evaluating:  47%|████▋     | 990/2107 [17:16<17:20,  1.07it/s]"
          ]
        },
        {
          "name": "stdout",
          "output_type": "stream",
          "text": [
            "Batch 990 Accuracy so far: 0.0000\n"
          ]
        },
        {
          "name": "stderr",
          "output_type": "stream",
          "text": [
            "Evaluating:  47%|████▋     | 1000/2107 [17:27<18:08,  1.02it/s]"
          ]
        },
        {
          "name": "stdout",
          "output_type": "stream",
          "text": [
            "Batch 1000 Accuracy so far: 0.0000\n"
          ]
        },
        {
          "name": "stderr",
          "output_type": "stream",
          "text": [
            "Evaluating:  48%|████▊     | 1010/2107 [17:38<21:37,  1.18s/it]"
          ]
        },
        {
          "name": "stdout",
          "output_type": "stream",
          "text": [
            "Batch 1010 Accuracy so far: 0.0000\n"
          ]
        },
        {
          "name": "stderr",
          "output_type": "stream",
          "text": [
            "Evaluating:  48%|████▊     | 1020/2107 [17:47<17:07,  1.06it/s]"
          ]
        },
        {
          "name": "stdout",
          "output_type": "stream",
          "text": [
            "Batch 1020 Accuracy so far: 0.0000\n"
          ]
        },
        {
          "name": "stderr",
          "output_type": "stream",
          "text": [
            "Evaluating:  49%|████▉     | 1030/2107 [17:58<17:24,  1.03it/s]"
          ]
        },
        {
          "name": "stdout",
          "output_type": "stream",
          "text": [
            "Batch 1030 Accuracy so far: 0.0000\n"
          ]
        },
        {
          "name": "stderr",
          "output_type": "stream",
          "text": [
            "Evaluating:  49%|████▉     | 1040/2107 [18:09<18:19,  1.03s/it]"
          ]
        },
        {
          "name": "stdout",
          "output_type": "stream",
          "text": [
            "Batch 1040 Accuracy so far: 0.0000\n"
          ]
        },
        {
          "name": "stderr",
          "output_type": "stream",
          "text": [
            "Evaluating:  50%|████▉     | 1050/2107 [18:20<21:51,  1.24s/it]"
          ]
        },
        {
          "name": "stdout",
          "output_type": "stream",
          "text": [
            "Batch 1050 Accuracy so far: 0.0000\n"
          ]
        },
        {
          "name": "stderr",
          "output_type": "stream",
          "text": [
            "Evaluating:  50%|█████     | 1060/2107 [18:29<16:20,  1.07it/s]"
          ]
        },
        {
          "name": "stdout",
          "output_type": "stream",
          "text": [
            "Batch 1060 Accuracy so far: 0.0000\n"
          ]
        },
        {
          "name": "stderr",
          "output_type": "stream",
          "text": [
            "Evaluating:  51%|█████     | 1070/2107 [18:40<16:50,  1.03it/s]"
          ]
        },
        {
          "name": "stdout",
          "output_type": "stream",
          "text": [
            "Batch 1070 Accuracy so far: 0.0000\n"
          ]
        },
        {
          "name": "stderr",
          "output_type": "stream",
          "text": [
            "Evaluating:  51%|█████▏    | 1080/2107 [18:51<18:53,  1.10s/it]"
          ]
        },
        {
          "name": "stdout",
          "output_type": "stream",
          "text": [
            "Batch 1080 Accuracy so far: 0.0000\n"
          ]
        },
        {
          "name": "stderr",
          "output_type": "stream",
          "text": [
            "Evaluating:  52%|█████▏    | 1090/2107 [19:01<18:25,  1.09s/it]"
          ]
        },
        {
          "name": "stdout",
          "output_type": "stream",
          "text": [
            "Batch 1090 Accuracy so far: 0.0000\n"
          ]
        },
        {
          "name": "stderr",
          "output_type": "stream",
          "text": [
            "Evaluating:  52%|█████▏    | 1100/2107 [19:11<15:50,  1.06it/s]"
          ]
        },
        {
          "name": "stdout",
          "output_type": "stream",
          "text": [
            "Batch 1100 Accuracy so far: 0.0000\n"
          ]
        },
        {
          "name": "stderr",
          "output_type": "stream",
          "text": [
            "Evaluating:  53%|█████▎    | 1110/2107 [19:23<20:47,  1.25s/it]"
          ]
        },
        {
          "name": "stdout",
          "output_type": "stream",
          "text": [
            "Batch 1110 Accuracy so far: 0.0000\n"
          ]
        },
        {
          "name": "stderr",
          "output_type": "stream",
          "text": [
            "Evaluating:  53%|█████▎    | 1120/2107 [19:34<18:32,  1.13s/it]"
          ]
        },
        {
          "name": "stdout",
          "output_type": "stream",
          "text": [
            "Batch 1120 Accuracy so far: 0.0000\n"
          ]
        },
        {
          "name": "stderr",
          "output_type": "stream",
          "text": [
            "Evaluating:  54%|█████▎    | 1130/2107 [19:44<17:57,  1.10s/it]"
          ]
        },
        {
          "name": "stdout",
          "output_type": "stream",
          "text": [
            "Batch 1130 Accuracy so far: 0.0000\n"
          ]
        },
        {
          "name": "stderr",
          "output_type": "stream",
          "text": [
            "Evaluating:  54%|█████▍    | 1140/2107 [19:54<15:07,  1.07it/s]"
          ]
        },
        {
          "name": "stdout",
          "output_type": "stream",
          "text": [
            "Batch 1140 Accuracy so far: 0.0000\n"
          ]
        },
        {
          "name": "stderr",
          "output_type": "stream",
          "text": [
            "Evaluating:  55%|█████▍    | 1150/2107 [20:05<15:55,  1.00it/s]"
          ]
        },
        {
          "name": "stdout",
          "output_type": "stream",
          "text": [
            "Batch 1150 Accuracy so far: 0.0000\n"
          ]
        },
        {
          "name": "stderr",
          "output_type": "stream",
          "text": [
            "Evaluating:  55%|█████▌    | 1160/2107 [20:16<19:12,  1.22s/it]"
          ]
        },
        {
          "name": "stdout",
          "output_type": "stream",
          "text": [
            "Batch 1160 Accuracy so far: 0.0000\n"
          ]
        },
        {
          "name": "stderr",
          "output_type": "stream",
          "text": [
            "Evaluating:  56%|█████▌    | 1170/2107 [20:25<14:24,  1.08it/s]"
          ]
        },
        {
          "name": "stdout",
          "output_type": "stream",
          "text": [
            "Batch 1170 Accuracy so far: 0.0000\n"
          ]
        },
        {
          "name": "stderr",
          "output_type": "stream",
          "text": [
            "Evaluating:  56%|█████▌    | 1180/2107 [20:36<14:51,  1.04it/s]"
          ]
        },
        {
          "name": "stdout",
          "output_type": "stream",
          "text": [
            "Batch 1180 Accuracy so far: 0.0000\n"
          ]
        },
        {
          "name": "stderr",
          "output_type": "stream",
          "text": [
            "Evaluating:  56%|█████▋    | 1190/2107 [20:47<16:13,  1.06s/it]"
          ]
        },
        {
          "name": "stdout",
          "output_type": "stream",
          "text": [
            "Batch 1190 Accuracy so far: 0.0000\n"
          ]
        },
        {
          "name": "stderr",
          "output_type": "stream",
          "text": [
            "Evaluating:  57%|█████▋    | 1200/2107 [20:57<17:13,  1.14s/it]"
          ]
        },
        {
          "name": "stdout",
          "output_type": "stream",
          "text": [
            "Batch 1200 Accuracy so far: 0.0000\n"
          ]
        },
        {
          "name": "stderr",
          "output_type": "stream",
          "text": [
            "Evaluating:  57%|█████▋    | 1210/2107 [21:07<13:58,  1.07it/s]"
          ]
        },
        {
          "name": "stdout",
          "output_type": "stream",
          "text": [
            "Batch 1210 Accuracy so far: 0.0000\n"
          ]
        },
        {
          "name": "stderr",
          "output_type": "stream",
          "text": [
            "Evaluating:  58%|█████▊    | 1220/2107 [21:17<14:25,  1.02it/s]"
          ]
        },
        {
          "name": "stdout",
          "output_type": "stream",
          "text": [
            "Batch 1220 Accuracy so far: 0.0009\n"
          ]
        },
        {
          "name": "stderr",
          "output_type": "stream",
          "text": [
            "Evaluating:  58%|█████▊    | 1230/2107 [21:28<17:20,  1.19s/it]"
          ]
        },
        {
          "name": "stdout",
          "output_type": "stream",
          "text": [
            "Batch 1230 Accuracy so far: 0.0090\n"
          ]
        },
        {
          "name": "stderr",
          "output_type": "stream",
          "text": [
            "Evaluating:  59%|█████▉    | 1240/2107 [21:37<13:21,  1.08it/s]"
          ]
        },
        {
          "name": "stdout",
          "output_type": "stream",
          "text": [
            "Batch 1240 Accuracy so far: 0.0170\n"
          ]
        },
        {
          "name": "stderr",
          "output_type": "stream",
          "text": [
            "Evaluating:  59%|█████▉    | 1250/2107 [21:48<13:25,  1.06it/s]"
          ]
        },
        {
          "name": "stdout",
          "output_type": "stream",
          "text": [
            "Batch 1250 Accuracy so far: 0.0249\n"
          ]
        },
        {
          "name": "stderr",
          "output_type": "stream",
          "text": [
            "Evaluating:  60%|█████▉    | 1260/2107 [21:59<14:49,  1.05s/it]"
          ]
        },
        {
          "name": "stdout",
          "output_type": "stream",
          "text": [
            "Batch 1260 Accuracy so far: 0.0326\n"
          ]
        },
        {
          "name": "stderr",
          "output_type": "stream",
          "text": [
            "Evaluating:  60%|██████    | 1270/2107 [22:09<16:09,  1.16s/it]"
          ]
        },
        {
          "name": "stdout",
          "output_type": "stream",
          "text": [
            "Batch 1270 Accuracy so far: 0.0403\n"
          ]
        },
        {
          "name": "stderr",
          "output_type": "stream",
          "text": [
            "Evaluating:  61%|██████    | 1280/2107 [22:18<12:49,  1.07it/s]"
          ]
        },
        {
          "name": "stdout",
          "output_type": "stream",
          "text": [
            "Batch 1280 Accuracy so far: 0.0478\n"
          ]
        },
        {
          "name": "stderr",
          "output_type": "stream",
          "text": [
            "Evaluating:  61%|██████    | 1290/2107 [22:29<13:24,  1.02it/s]"
          ]
        },
        {
          "name": "stdout",
          "output_type": "stream",
          "text": [
            "Batch 1290 Accuracy so far: 0.0551\n"
          ]
        },
        {
          "name": "stderr",
          "output_type": "stream",
          "text": [
            "Evaluating:  62%|██████▏   | 1300/2107 [22:40<16:07,  1.20s/it]"
          ]
        },
        {
          "name": "stdout",
          "output_type": "stream",
          "text": [
            "Batch 1300 Accuracy so far: 0.0624\n"
          ]
        },
        {
          "name": "stderr",
          "output_type": "stream",
          "text": [
            "Evaluating:  62%|██████▏   | 1310/2107 [22:49<12:15,  1.08it/s]"
          ]
        },
        {
          "name": "stdout",
          "output_type": "stream",
          "text": [
            "Batch 1310 Accuracy so far: 0.0696\n"
          ]
        },
        {
          "name": "stderr",
          "output_type": "stream",
          "text": [
            "Evaluating:  63%|██████▎   | 1320/2107 [23:00<12:25,  1.06it/s]"
          ]
        },
        {
          "name": "stdout",
          "output_type": "stream",
          "text": [
            "Batch 1320 Accuracy so far: 0.0766\n"
          ]
        },
        {
          "name": "stderr",
          "output_type": "stream",
          "text": [
            "Evaluating:  63%|██████▎   | 1330/2107 [23:11<13:37,  1.05s/it]"
          ]
        },
        {
          "name": "stdout",
          "output_type": "stream",
          "text": [
            "Batch 1330 Accuracy so far: 0.0835\n"
          ]
        },
        {
          "name": "stderr",
          "output_type": "stream",
          "text": [
            "Evaluating:  64%|██████▎   | 1340/2107 [23:21<14:34,  1.14s/it]"
          ]
        },
        {
          "name": "stdout",
          "output_type": "stream",
          "text": [
            "Batch 1340 Accuracy so far: 0.0903\n"
          ]
        },
        {
          "name": "stderr",
          "output_type": "stream",
          "text": [
            "Evaluating:  64%|██████▍   | 1350/2107 [23:31<11:35,  1.09it/s]"
          ]
        },
        {
          "name": "stdout",
          "output_type": "stream",
          "text": [
            "Batch 1350 Accuracy so far: 0.0970\n"
          ]
        },
        {
          "name": "stderr",
          "output_type": "stream",
          "text": [
            "Evaluating:  65%|██████▍   | 1360/2107 [23:41<12:09,  1.02it/s]"
          ]
        },
        {
          "name": "stdout",
          "output_type": "stream",
          "text": [
            "Batch 1360 Accuracy so far: 0.1037\n"
          ]
        },
        {
          "name": "stderr",
          "output_type": "stream",
          "text": [
            "Evaluating:  65%|██████▌   | 1370/2107 [23:54<15:43,  1.28s/it]"
          ]
        },
        {
          "name": "stdout",
          "output_type": "stream",
          "text": [
            "Batch 1370 Accuracy so far: 0.1102\n"
          ]
        },
        {
          "name": "stderr",
          "output_type": "stream",
          "text": [
            "Evaluating:  65%|██████▌   | 1380/2107 [24:03<11:07,  1.09it/s]"
          ]
        },
        {
          "name": "stdout",
          "output_type": "stream",
          "text": [
            "Batch 1380 Accuracy so far: 0.1167\n"
          ]
        },
        {
          "name": "stderr",
          "output_type": "stream",
          "text": [
            "Evaluating:  66%|██████▌   | 1390/2107 [24:13<11:15,  1.06it/s]"
          ]
        },
        {
          "name": "stdout",
          "output_type": "stream",
          "text": [
            "Batch 1390 Accuracy so far: 0.1186\n"
          ]
        },
        {
          "name": "stderr",
          "output_type": "stream",
          "text": [
            "Evaluating:  66%|██████▋   | 1400/2107 [24:24<12:16,  1.04s/it]"
          ]
        },
        {
          "name": "stdout",
          "output_type": "stream",
          "text": [
            "Batch 1400 Accuracy so far: 0.1178\n"
          ]
        },
        {
          "name": "stderr",
          "output_type": "stream",
          "text": [
            "Evaluating:  67%|██████▋   | 1410/2107 [24:34<13:02,  1.12s/it]"
          ]
        },
        {
          "name": "stdout",
          "output_type": "stream",
          "text": [
            "Batch 1410 Accuracy so far: 0.1169\n"
          ]
        },
        {
          "name": "stderr",
          "output_type": "stream",
          "text": [
            "Evaluating:  67%|██████▋   | 1420/2107 [24:44<10:36,  1.08it/s]"
          ]
        },
        {
          "name": "stdout",
          "output_type": "stream",
          "text": [
            "Batch 1420 Accuracy so far: 0.1161\n"
          ]
        },
        {
          "name": "stderr",
          "output_type": "stream",
          "text": [
            "Evaluating:  68%|██████▊   | 1430/2107 [24:55<12:19,  1.09s/it]"
          ]
        },
        {
          "name": "stdout",
          "output_type": "stream",
          "text": [
            "Batch 1430 Accuracy so far: 0.1153\n"
          ]
        },
        {
          "name": "stderr",
          "output_type": "stream",
          "text": [
            "Evaluating:  68%|██████▊   | 1440/2107 [25:07<13:39,  1.23s/it]"
          ]
        },
        {
          "name": "stdout",
          "output_type": "stream",
          "text": [
            "Batch 1440 Accuracy so far: 0.1145\n"
          ]
        },
        {
          "name": "stderr",
          "output_type": "stream",
          "text": [
            "Evaluating:  69%|██████▉   | 1450/2107 [25:17<10:50,  1.01it/s]"
          ]
        },
        {
          "name": "stdout",
          "output_type": "stream",
          "text": [
            "Batch 1450 Accuracy so far: 0.1137\n"
          ]
        },
        {
          "name": "stderr",
          "output_type": "stream",
          "text": [
            "Evaluating:  69%|██████▉   | 1460/2107 [25:27<10:06,  1.07it/s]"
          ]
        },
        {
          "name": "stdout",
          "output_type": "stream",
          "text": [
            "Batch 1460 Accuracy so far: 0.1129\n"
          ]
        },
        {
          "name": "stderr",
          "output_type": "stream",
          "text": [
            "Evaluating:  70%|██████▉   | 1470/2107 [25:38<10:59,  1.04s/it]"
          ]
        },
        {
          "name": "stdout",
          "output_type": "stream",
          "text": [
            "Batch 1470 Accuracy so far: 0.1122\n"
          ]
        },
        {
          "name": "stderr",
          "output_type": "stream",
          "text": [
            "Evaluating:  70%|███████   | 1480/2107 [25:48<12:27,  1.19s/it]"
          ]
        },
        {
          "name": "stdout",
          "output_type": "stream",
          "text": [
            "Batch 1480 Accuracy so far: 0.1114\n"
          ]
        },
        {
          "name": "stderr",
          "output_type": "stream",
          "text": [
            "Evaluating:  71%|███████   | 1490/2107 [25:58<09:25,  1.09it/s]"
          ]
        },
        {
          "name": "stdout",
          "output_type": "stream",
          "text": [
            "Batch 1490 Accuracy so far: 0.1107\n"
          ]
        },
        {
          "name": "stderr",
          "output_type": "stream",
          "text": [
            "Evaluating:  71%|███████   | 1500/2107 [26:08<09:45,  1.04it/s]"
          ]
        },
        {
          "name": "stdout",
          "output_type": "stream",
          "text": [
            "Batch 1500 Accuracy so far: 0.1099\n"
          ]
        },
        {
          "name": "stderr",
          "output_type": "stream",
          "text": [
            "Evaluating:  72%|███████▏  | 1510/2107 [26:19<11:23,  1.14s/it]"
          ]
        },
        {
          "name": "stdout",
          "output_type": "stream",
          "text": [
            "Batch 1510 Accuracy so far: 0.1092\n"
          ]
        },
        {
          "name": "stderr",
          "output_type": "stream",
          "text": [
            "Evaluating:  72%|███████▏  | 1520/2107 [26:28<08:56,  1.09it/s]"
          ]
        },
        {
          "name": "stdout",
          "output_type": "stream",
          "text": [
            "Batch 1520 Accuracy so far: 0.1085\n"
          ]
        },
        {
          "name": "stderr",
          "output_type": "stream",
          "text": [
            "Evaluating:  73%|███████▎  | 1530/2107 [26:39<09:04,  1.06it/s]"
          ]
        },
        {
          "name": "stdout",
          "output_type": "stream",
          "text": [
            "Batch 1530 Accuracy so far: 0.1078\n"
          ]
        },
        {
          "name": "stderr",
          "output_type": "stream",
          "text": [
            "Evaluating:  73%|███████▎  | 1540/2107 [26:49<09:42,  1.03s/it]"
          ]
        },
        {
          "name": "stdout",
          "output_type": "stream",
          "text": [
            "Batch 1540 Accuracy so far: 0.1071\n"
          ]
        },
        {
          "name": "stderr",
          "output_type": "stream",
          "text": [
            "Evaluating:  74%|███████▎  | 1550/2107 [26:59<10:47,  1.16s/it]"
          ]
        },
        {
          "name": "stdout",
          "output_type": "stream",
          "text": [
            "Batch 1550 Accuracy so far: 0.1064\n"
          ]
        },
        {
          "name": "stderr",
          "output_type": "stream",
          "text": [
            "Evaluating:  74%|███████▍  | 1560/2107 [27:09<08:27,  1.08it/s]"
          ]
        },
        {
          "name": "stdout",
          "output_type": "stream",
          "text": [
            "Batch 1560 Accuracy so far: 0.1057\n"
          ]
        },
        {
          "name": "stderr",
          "output_type": "stream",
          "text": [
            "Evaluating:  75%|███████▍  | 1570/2107 [27:20<08:42,  1.03it/s]"
          ]
        },
        {
          "name": "stdout",
          "output_type": "stream",
          "text": [
            "Batch 1570 Accuracy so far: 0.1050\n"
          ]
        },
        {
          "name": "stderr",
          "output_type": "stream",
          "text": [
            "Evaluating:  75%|███████▍  | 1580/2107 [27:30<10:21,  1.18s/it]"
          ]
        },
        {
          "name": "stdout",
          "output_type": "stream",
          "text": [
            "Batch 1580 Accuracy so far: 0.1044\n"
          ]
        },
        {
          "name": "stderr",
          "output_type": "stream",
          "text": [
            "Evaluating:  75%|███████▌  | 1590/2107 [27:39<07:54,  1.09it/s]"
          ]
        },
        {
          "name": "stdout",
          "output_type": "stream",
          "text": [
            "Batch 1590 Accuracy so far: 0.1037\n"
          ]
        },
        {
          "name": "stderr",
          "output_type": "stream",
          "text": [
            "Evaluating:  76%|███████▌  | 1600/2107 [27:50<07:54,  1.07it/s]"
          ]
        },
        {
          "name": "stdout",
          "output_type": "stream",
          "text": [
            "Batch 1600 Accuracy so far: 0.1030\n"
          ]
        },
        {
          "name": "stderr",
          "output_type": "stream",
          "text": [
            "Evaluating:  76%|███████▋  | 1610/2107 [28:01<08:43,  1.05s/it]"
          ]
        },
        {
          "name": "stdout",
          "output_type": "stream",
          "text": [
            "Batch 1610 Accuracy so far: 0.1024\n"
          ]
        },
        {
          "name": "stderr",
          "output_type": "stream",
          "text": [
            "Evaluating:  77%|███████▋  | 1620/2107 [28:11<09:34,  1.18s/it]"
          ]
        },
        {
          "name": "stdout",
          "output_type": "stream",
          "text": [
            "Batch 1620 Accuracy so far: 0.1018\n"
          ]
        },
        {
          "name": "stderr",
          "output_type": "stream",
          "text": [
            "Evaluating:  77%|███████▋  | 1630/2107 [28:22<07:38,  1.04it/s]"
          ]
        },
        {
          "name": "stdout",
          "output_type": "stream",
          "text": [
            "Batch 1630 Accuracy so far: 0.1012\n"
          ]
        },
        {
          "name": "stderr",
          "output_type": "stream",
          "text": [
            "Evaluating:  78%|███████▊  | 1640/2107 [28:33<07:52,  1.01s/it]"
          ]
        },
        {
          "name": "stdout",
          "output_type": "stream",
          "text": [
            "Batch 1640 Accuracy so far: 0.1005\n"
          ]
        },
        {
          "name": "stderr",
          "output_type": "stream",
          "text": [
            "Evaluating:  78%|███████▊  | 1650/2107 [28:43<09:01,  1.18s/it]"
          ]
        },
        {
          "name": "stdout",
          "output_type": "stream",
          "text": [
            "Batch 1650 Accuracy so far: 0.0999\n"
          ]
        },
        {
          "name": "stderr",
          "output_type": "stream",
          "text": [
            "Evaluating:  79%|███████▉  | 1660/2107 [28:52<06:49,  1.09it/s]"
          ]
        },
        {
          "name": "stdout",
          "output_type": "stream",
          "text": [
            "Batch 1660 Accuracy so far: 0.0993\n"
          ]
        },
        {
          "name": "stderr",
          "output_type": "stream",
          "text": [
            "Evaluating:  79%|███████▉  | 1670/2107 [29:03<06:56,  1.05it/s]"
          ]
        },
        {
          "name": "stdout",
          "output_type": "stream",
          "text": [
            "Batch 1670 Accuracy so far: 0.0987\n"
          ]
        },
        {
          "name": "stderr",
          "output_type": "stream",
          "text": [
            "Evaluating:  80%|███████▉  | 1680/2107 [29:14<08:01,  1.13s/it]"
          ]
        },
        {
          "name": "stdout",
          "output_type": "stream",
          "text": [
            "Batch 1680 Accuracy so far: 0.0981\n"
          ]
        },
        {
          "name": "stderr",
          "output_type": "stream",
          "text": [
            "Evaluating:  80%|████████  | 1690/2107 [29:23<06:36,  1.05it/s]"
          ]
        },
        {
          "name": "stdout",
          "output_type": "stream",
          "text": [
            "Batch 1690 Accuracy so far: 0.0976\n"
          ]
        },
        {
          "name": "stderr",
          "output_type": "stream",
          "text": [
            "Evaluating:  81%|████████  | 1700/2107 [29:33<06:17,  1.08it/s]"
          ]
        },
        {
          "name": "stdout",
          "output_type": "stream",
          "text": [
            "Batch 1700 Accuracy so far: 0.0970\n"
          ]
        },
        {
          "name": "stderr",
          "output_type": "stream",
          "text": [
            "Evaluating:  81%|████████  | 1710/2107 [29:44<06:43,  1.02s/it]"
          ]
        },
        {
          "name": "stdout",
          "output_type": "stream",
          "text": [
            "Batch 1710 Accuracy so far: 0.0964\n"
          ]
        },
        {
          "name": "stderr",
          "output_type": "stream",
          "text": [
            "Evaluating:  82%|████████▏ | 1720/2107 [29:54<07:34,  1.17s/it]"
          ]
        },
        {
          "name": "stdout",
          "output_type": "stream",
          "text": [
            "Batch 1720 Accuracy so far: 0.0959\n"
          ]
        },
        {
          "name": "stderr",
          "output_type": "stream",
          "text": [
            "Evaluating:  82%|████████▏ | 1730/2107 [30:04<05:46,  1.09it/s]"
          ]
        },
        {
          "name": "stdout",
          "output_type": "stream",
          "text": [
            "Batch 1730 Accuracy so far: 0.0953\n"
          ]
        },
        {
          "name": "stderr",
          "output_type": "stream",
          "text": [
            "Evaluating:  83%|████████▎ | 1740/2107 [30:14<05:55,  1.03it/s]"
          ]
        },
        {
          "name": "stdout",
          "output_type": "stream",
          "text": [
            "Batch 1740 Accuracy so far: 0.0948\n"
          ]
        },
        {
          "name": "stderr",
          "output_type": "stream",
          "text": [
            "Evaluating:  83%|████████▎ | 1750/2107 [30:25<06:54,  1.16s/it]"
          ]
        },
        {
          "name": "stdout",
          "output_type": "stream",
          "text": [
            "Batch 1750 Accuracy so far: 0.0942\n"
          ]
        },
        {
          "name": "stderr",
          "output_type": "stream",
          "text": [
            "Evaluating:  84%|████████▎ | 1760/2107 [30:34<05:16,  1.10it/s]"
          ]
        },
        {
          "name": "stdout",
          "output_type": "stream",
          "text": [
            "Batch 1760 Accuracy so far: 0.0937\n"
          ]
        },
        {
          "name": "stderr",
          "output_type": "stream",
          "text": [
            "Evaluating:  84%|████████▍ | 1770/2107 [30:45<05:15,  1.07it/s]"
          ]
        },
        {
          "name": "stdout",
          "output_type": "stream",
          "text": [
            "Batch 1770 Accuracy so far: 0.0931\n"
          ]
        },
        {
          "name": "stderr",
          "output_type": "stream",
          "text": [
            "Evaluating:  84%|████████▍ | 1780/2107 [30:55<05:41,  1.04s/it]"
          ]
        },
        {
          "name": "stdout",
          "output_type": "stream",
          "text": [
            "Batch 1780 Accuracy so far: 0.0926\n"
          ]
        },
        {
          "name": "stderr",
          "output_type": "stream",
          "text": [
            "Evaluating:  85%|████████▍ | 1790/2107 [31:05<05:57,  1.13s/it]"
          ]
        },
        {
          "name": "stdout",
          "output_type": "stream",
          "text": [
            "Batch 1790 Accuracy so far: 0.0921\n"
          ]
        },
        {
          "name": "stderr",
          "output_type": "stream",
          "text": [
            "Evaluating:  85%|████████▌ | 1800/2107 [31:15<04:39,  1.10it/s]"
          ]
        },
        {
          "name": "stdout",
          "output_type": "stream",
          "text": [
            "Batch 1800 Accuracy so far: 0.0916\n"
          ]
        },
        {
          "name": "stderr",
          "output_type": "stream",
          "text": [
            "Evaluating:  86%|████████▌ | 1810/2107 [31:25<04:48,  1.03it/s]"
          ]
        },
        {
          "name": "stdout",
          "output_type": "stream",
          "text": [
            "Batch 1810 Accuracy so far: 0.0911\n"
          ]
        },
        {
          "name": "stderr",
          "output_type": "stream",
          "text": [
            "Evaluating:  86%|████████▋ | 1820/2107 [31:36<05:51,  1.22s/it]"
          ]
        },
        {
          "name": "stdout",
          "output_type": "stream",
          "text": [
            "Batch 1820 Accuracy so far: 0.0906\n"
          ]
        },
        {
          "name": "stderr",
          "output_type": "stream",
          "text": [
            "Evaluating:  87%|████████▋ | 1830/2107 [31:45<04:13,  1.09it/s]"
          ]
        },
        {
          "name": "stdout",
          "output_type": "stream",
          "text": [
            "Batch 1830 Accuracy so far: 0.0901\n"
          ]
        },
        {
          "name": "stderr",
          "output_type": "stream",
          "text": [
            "Evaluating:  87%|████████▋ | 1840/2107 [31:56<04:12,  1.06it/s]"
          ]
        },
        {
          "name": "stdout",
          "output_type": "stream",
          "text": [
            "Batch 1840 Accuracy so far: 0.0896\n"
          ]
        },
        {
          "name": "stderr",
          "output_type": "stream",
          "text": [
            "Evaluating:  88%|████████▊ | 1850/2107 [32:06<04:31,  1.06s/it]"
          ]
        },
        {
          "name": "stdout",
          "output_type": "stream",
          "text": [
            "Batch 1850 Accuracy so far: 0.0891\n"
          ]
        },
        {
          "name": "stderr",
          "output_type": "stream",
          "text": [
            "Evaluating:  88%|████████▊ | 1860/2107 [32:16<04:28,  1.09s/it]"
          ]
        },
        {
          "name": "stdout",
          "output_type": "stream",
          "text": [
            "Batch 1860 Accuracy so far: 0.0886\n"
          ]
        },
        {
          "name": "stderr",
          "output_type": "stream",
          "text": [
            "Evaluating:  89%|████████▉ | 1870/2107 [32:26<03:37,  1.09it/s]"
          ]
        },
        {
          "name": "stdout",
          "output_type": "stream",
          "text": [
            "Batch 1870 Accuracy so far: 0.0882\n"
          ]
        },
        {
          "name": "stderr",
          "output_type": "stream",
          "text": [
            "Evaluating:  89%|████████▉ | 1880/2107 [32:37<03:44,  1.01it/s]"
          ]
        },
        {
          "name": "stdout",
          "output_type": "stream",
          "text": [
            "Batch 1880 Accuracy so far: 0.0877\n"
          ]
        },
        {
          "name": "stderr",
          "output_type": "stream",
          "text": [
            "Evaluating:  90%|████████▉ | 1890/2107 [32:49<04:03,  1.12s/it]"
          ]
        },
        {
          "name": "stdout",
          "output_type": "stream",
          "text": [
            "Batch 1890 Accuracy so far: 0.0872\n"
          ]
        },
        {
          "name": "stderr",
          "output_type": "stream",
          "text": [
            "Evaluating:  90%|█████████ | 1900/2107 [32:58<03:29,  1.01s/it]"
          ]
        },
        {
          "name": "stdout",
          "output_type": "stream",
          "text": [
            "Batch 1900 Accuracy so far: 0.0868\n"
          ]
        },
        {
          "name": "stderr",
          "output_type": "stream",
          "text": [
            "Evaluating:  91%|█████████ | 1910/2107 [33:08<03:02,  1.08it/s]"
          ]
        },
        {
          "name": "stdout",
          "output_type": "stream",
          "text": [
            "Batch 1910 Accuracy so far: 0.0863\n"
          ]
        },
        {
          "name": "stderr",
          "output_type": "stream",
          "text": [
            "Evaluating:  91%|█████████ | 1920/2107 [33:19<03:05,  1.01it/s]"
          ]
        },
        {
          "name": "stdout",
          "output_type": "stream",
          "text": [
            "Batch 1920 Accuracy so far: 0.0859\n"
          ]
        },
        {
          "name": "stderr",
          "output_type": "stream",
          "text": [
            "Evaluating:  92%|█████████▏| 1930/2107 [33:29<03:30,  1.19s/it]"
          ]
        },
        {
          "name": "stdout",
          "output_type": "stream",
          "text": [
            "Batch 1930 Accuracy so far: 0.0854\n"
          ]
        },
        {
          "name": "stderr",
          "output_type": "stream",
          "text": [
            "Evaluating:  92%|█████████▏| 1940/2107 [33:38<02:33,  1.08it/s]"
          ]
        },
        {
          "name": "stdout",
          "output_type": "stream",
          "text": [
            "Batch 1940 Accuracy so far: 0.0850\n"
          ]
        },
        {
          "name": "stderr",
          "output_type": "stream",
          "text": [
            "Evaluating:  93%|█████████▎| 1950/2107 [33:49<02:28,  1.06it/s]"
          ]
        },
        {
          "name": "stdout",
          "output_type": "stream",
          "text": [
            "Batch 1950 Accuracy so far: 0.0846\n"
          ]
        },
        {
          "name": "stderr",
          "output_type": "stream",
          "text": [
            "Evaluating:  93%|█████████▎| 1960/2107 [33:59<02:47,  1.14s/it]"
          ]
        },
        {
          "name": "stdout",
          "output_type": "stream",
          "text": [
            "Batch 1960 Accuracy so far: 0.0841\n"
          ]
        },
        {
          "name": "stderr",
          "output_type": "stream",
          "text": [
            "Evaluating:  93%|█████████▎| 1970/2107 [34:09<02:05,  1.09it/s]"
          ]
        },
        {
          "name": "stdout",
          "output_type": "stream",
          "text": [
            "Batch 1970 Accuracy so far: 0.0837\n"
          ]
        },
        {
          "name": "stderr",
          "output_type": "stream",
          "text": [
            "Evaluating:  94%|█████████▍| 1980/2107 [34:19<01:58,  1.07it/s]"
          ]
        },
        {
          "name": "stdout",
          "output_type": "stream",
          "text": [
            "Batch 1980 Accuracy so far: 0.0833\n"
          ]
        },
        {
          "name": "stderr",
          "output_type": "stream",
          "text": [
            "Evaluating:  94%|█████████▍| 1990/2107 [34:30<02:00,  1.03s/it]"
          ]
        },
        {
          "name": "stdout",
          "output_type": "stream",
          "text": [
            "Batch 1990 Accuracy so far: 0.0829\n"
          ]
        },
        {
          "name": "stderr",
          "output_type": "stream",
          "text": [
            "Evaluating:  95%|█████████▍| 2000/2107 [34:40<02:02,  1.15s/it]"
          ]
        },
        {
          "name": "stdout",
          "output_type": "stream",
          "text": [
            "Batch 2000 Accuracy so far: 0.0824\n"
          ]
        },
        {
          "name": "stderr",
          "output_type": "stream",
          "text": [
            "Evaluating:  95%|█████████▌| 2010/2107 [34:49<01:28,  1.09it/s]"
          ]
        },
        {
          "name": "stdout",
          "output_type": "stream",
          "text": [
            "Batch 2010 Accuracy so far: 0.0820\n"
          ]
        },
        {
          "name": "stderr",
          "output_type": "stream",
          "text": [
            "Evaluating:  96%|█████████▌| 2020/2107 [35:00<01:24,  1.03it/s]"
          ]
        },
        {
          "name": "stdout",
          "output_type": "stream",
          "text": [
            "Batch 2020 Accuracy so far: 0.0816\n"
          ]
        },
        {
          "name": "stderr",
          "output_type": "stream",
          "text": [
            "Evaluating:  96%|█████████▋| 2030/2107 [35:10<01:32,  1.20s/it]"
          ]
        },
        {
          "name": "stdout",
          "output_type": "stream",
          "text": [
            "Batch 2030 Accuracy so far: 0.0812\n"
          ]
        },
        {
          "name": "stderr",
          "output_type": "stream",
          "text": [
            "Evaluating:  97%|█████████▋| 2040/2107 [35:19<01:00,  1.10it/s]"
          ]
        },
        {
          "name": "stdout",
          "output_type": "stream",
          "text": [
            "Batch 2040 Accuracy so far: 0.0808\n"
          ]
        },
        {
          "name": "stderr",
          "output_type": "stream",
          "text": [
            "Evaluating:  97%|█████████▋| 2050/2107 [35:30<00:53,  1.06it/s]"
          ]
        },
        {
          "name": "stdout",
          "output_type": "stream",
          "text": [
            "Batch 2050 Accuracy so far: 0.0804\n"
          ]
        },
        {
          "name": "stderr",
          "output_type": "stream",
          "text": [
            "Evaluating:  98%|█████████▊| 2060/2107 [35:41<00:50,  1.07s/it]"
          ]
        },
        {
          "name": "stdout",
          "output_type": "stream",
          "text": [
            "Batch 2060 Accuracy so far: 0.0800\n"
          ]
        },
        {
          "name": "stderr",
          "output_type": "stream",
          "text": [
            "Evaluating:  98%|█████████▊| 2070/2107 [35:50<00:39,  1.07s/it]"
          ]
        },
        {
          "name": "stdout",
          "output_type": "stream",
          "text": [
            "Batch 2070 Accuracy so far: 0.0796\n"
          ]
        },
        {
          "name": "stderr",
          "output_type": "stream",
          "text": [
            "Evaluating:  99%|█████████▊| 2080/2107 [36:00<00:24,  1.08it/s]"
          ]
        },
        {
          "name": "stdout",
          "output_type": "stream",
          "text": [
            "Batch 2080 Accuracy so far: 0.0793\n"
          ]
        },
        {
          "name": "stderr",
          "output_type": "stream",
          "text": [
            "Evaluating:  99%|█████████▉| 2090/2107 [36:11<00:17,  1.00s/it]"
          ]
        },
        {
          "name": "stdout",
          "output_type": "stream",
          "text": [
            "Batch 2090 Accuracy so far: 0.0789\n"
          ]
        },
        {
          "name": "stderr",
          "output_type": "stream",
          "text": [
            "Evaluating: 100%|█████████▉| 2100/2107 [36:22<00:08,  1.25s/it]"
          ]
        },
        {
          "name": "stdout",
          "output_type": "stream",
          "text": [
            "Batch 2100 Accuracy so far: 0.0785\n"
          ]
        },
        {
          "name": "stderr",
          "output_type": "stream",
          "text": [
            "Evaluating: 100%|██████████| 2107/2107 [36:27<00:00,  1.04s/it]"
          ]
        },
        {
          "name": "stdout",
          "output_type": "stream",
          "text": [
            "Final Accuracy on validation set: 0.0783\n"
          ]
        },
        {
          "name": "stderr",
          "output_type": "stream",
          "text": [
            "\n"
          ]
        }
      ],
      "source": [
        "import torch\n",
        "import torch.nn as nn\n",
        "from torch.utils.data import Dataset, DataLoader\n",
        "import numpy as np\n",
        "import os\n",
        "from glob import glob\n",
        "from tqdm import tqdm  # nice progress bar\n",
        "\n",
        "# ==== CONFIG ====\n",
        "device = torch.device(\"cuda\" if torch.cuda.is_available() else \"cpu\")\n",
        "\n",
        "model_weights_path = \"/content/drive/MyDrive/SS2025/DAM101/Assignment_4/best_model.pt\"\n",
        "val_data_path = \"/content/drive/MyDrive/SS2025/DAM101/Assignment_4/Melspectogram\"\n",
        "\n",
        "num_classes = 4\n",
        "expected_channels = 4\n",
        "target_shape = (4, 128, 313)\n",
        "batch_size = 8\n",
        "\n",
        "# ==== Dataset ====\n",
        "class AudioFeatureDataset(Dataset):\n",
        "    def __init__(self, root_dir, target_shape=target_shape):\n",
        "        all_files = glob(os.path.join(root_dir, \"*/*.npy\"))\n",
        "        self.label_map = {'English': 0, 'Dzongkha': 1, 'Hindi': 2, 'Sharchogpa': 3}\n",
        "        self.target_shape = target_shape\n",
        "        self.filepaths = []\n",
        "\n",
        "        for fp in all_files:\n",
        "            try:\n",
        "                data = np.load(fp, allow_pickle=True)\n",
        "                if data.ndim in [2, 3]:\n",
        "                    self.filepaths.append(fp)\n",
        "            except Exception as e:\n",
        "                print(f\"Skipping file {fp} due to error: {e}\")\n",
        "\n",
        "    def __len__(self):\n",
        "        return len(self.filepaths)\n",
        "\n",
        "    def __getitem__(self, idx):\n",
        "        filepath = self.filepaths[idx]\n",
        "        data = np.load(filepath, allow_pickle=True)\n",
        "\n",
        "        if data.ndim == 2:\n",
        "            data = np.expand_dims(data, axis=0)\n",
        "        elif data.ndim > 3:\n",
        "            raise ValueError(f\"Invalid shape: {filepath}\")\n",
        "\n",
        "        # Adjust channels\n",
        "        if data.shape[0] < expected_channels:\n",
        "            pad = np.zeros((expected_channels - data.shape[0], data.shape[1], data.shape[2]))\n",
        "            data = np.concatenate((data, pad), axis=0)\n",
        "        elif data.shape[0] > expected_channels:\n",
        "            data = data[:expected_channels]\n",
        "\n",
        "        # Crop or pad spatial dims\n",
        "        padded = np.zeros(self.target_shape)\n",
        "        h, w = min(data.shape[1], self.target_shape[1]), min(data.shape[2], self.target_shape[2])\n",
        "        padded[:, :h, :w] = data[:, :h, :w]\n",
        "\n",
        "        label_name = os.path.basename(os.path.dirname(filepath))\n",
        "        label = self.label_map.get(label_name, -1)\n",
        "        if label == -1:\n",
        "            raise ValueError(f\"Unknown label: {label_name} for file {filepath}\")\n",
        "\n",
        "        return torch.tensor(padded).float(), label\n",
        "\n",
        "# ==== Model Definition ====\n",
        "import torchvision.models as models\n",
        "\n",
        "class ResNet34Custom(nn.Module):\n",
        "    def __init__(self, in_channels=4, num_classes=4):\n",
        "        super().__init__()\n",
        "        base = models.resnet34(pretrained=False)\n",
        "        base.conv1 = nn.Conv2d(in_channels, 64, kernel_size=7, stride=2, padding=3, bias=False)\n",
        "        base.fc = nn.Linear(base.fc.in_features, num_classes)\n",
        "        self.net = base\n",
        "\n",
        "    def forward(self, x):\n",
        "        return self.net(x)\n",
        "\n",
        "# ==== Load model weights ====\n",
        "def load_model(path, in_channels, num_classes):\n",
        "    model = ResNet34Custom(in_channels, num_classes)\n",
        "    try:\n",
        "        state_dict = torch.load(path, map_location=device)\n",
        "        new_state_dict = {}\n",
        "        for k, v in state_dict.items():\n",
        "            if k.startswith(\"module.\"):\n",
        "                new_state_dict[k[7:]] = v\n",
        "            else:\n",
        "                new_state_dict[k] = v\n",
        "        model.load_state_dict(new_state_dict, strict=True)\n",
        "    except Exception as e:\n",
        "        print(f\"Error loading weights: {e}\")\n",
        "        return None\n",
        "\n",
        "    model.to(device)\n",
        "    model.eval()\n",
        "    print(\"Model loaded successfully!\")\n",
        "    return model\n",
        "\n",
        "# ==== Evaluate ====\n",
        "def evaluate(model, dataloader):\n",
        "    if model is None:\n",
        "        print(\"Model is None, aborting evaluation.\")\n",
        "        return 0.0\n",
        "\n",
        "    correct = 0\n",
        "    total = 0\n",
        "\n",
        "    print(f\"Evaluating on {len(dataloader.dataset)} samples with batch size {dataloader.batch_size} ...\")\n",
        "\n",
        "    for i, (x, y) in enumerate(tqdm(dataloader, desc=\"Evaluating\")):\n",
        "        x = x.to(device)\n",
        "        y = y.to(device)\n",
        "\n",
        "        outputs = model(x)\n",
        "        preds = outputs.argmax(dim=1)\n",
        "\n",
        "        correct += (preds == y).sum().item()\n",
        "        total += y.size(0)\n",
        "\n",
        "        if (i+1) % 10 == 0 or i == 0:\n",
        "            print(f\"Batch {i+1} Accuracy so far: {correct/total:.4f}\")\n",
        "\n",
        "    final_acc = correct / total if total > 0 else 0\n",
        "    print(f\"Final Accuracy on validation set: {final_acc:.4f}\")\n",
        "    return final_acc\n",
        "\n",
        "def main():\n",
        "    print(\"Loading dataset...\")\n",
        "    val_dataset = AudioFeatureDataset(val_data_path)\n",
        "    print(f\"Loaded {len(val_dataset)} samples\")\n",
        "\n",
        "    # Sanity check first 3 samples\n",
        "    for i in range(min(3, len(val_dataset))):\n",
        "        x, y = val_dataset[i]\n",
        "        print(f\"Sample {i}: x shape = {x.shape}, label = {y}\")\n",
        "\n",
        "    val_loader = DataLoader(val_dataset, batch_size=batch_size, shuffle=False)\n",
        "\n",
        "    model = load_model(model_weights_path, expected_channels, num_classes)\n",
        "    acc = evaluate(model, val_loader)\n",
        "\n",
        "if __name__ == \"__main__\":\n",
        "    main()"
      ]
    },
    {
      "cell_type": "code",
      "execution_count": null,
      "metadata": {
        "id": "awDU2V5DjKBU",
        "colab": {
          "base_uri": "https://localhost:8080/",
          "height": 646
        },
        "outputId": "ce0b0bf1-d4e6-449f-f8f8-e5916e932384"
      },
      "outputs": [
        {
          "output_type": "stream",
          "name": "stdout",
          "text": [
            "It looks like you are running Gradio on a hosted a Jupyter notebook. For the Gradio app to work, sharing must be enabled. Automatically setting `share=True` (you can turn this off by setting `share=False` in `launch()` explicitly).\n",
            "\n",
            "Colab notebook detected. To show errors in colab notebook, set debug=True in launch()\n",
            "* Running on public URL: https://85c0c12f4c60e01d01.gradio.live\n",
            "\n",
            "This share link expires in 1 week. For free permanent hosting and GPU upgrades, run `gradio deploy` from the terminal in the working directory to deploy to Hugging Face Spaces (https://huggingface.co/spaces)\n"
          ]
        },
        {
          "output_type": "display_data",
          "data": {
            "text/plain": [
              "<IPython.core.display.HTML object>"
            ],
            "text/html": [
              "<div><iframe src=\"https://85c0c12f4c60e01d01.gradio.live\" width=\"100%\" height=\"500\" allow=\"autoplay; camera; microphone; clipboard-read; clipboard-write;\" frameborder=\"0\" allowfullscreen></iframe></div>"
            ]
          },
          "metadata": {}
        },
        {
          "output_type": "execute_result",
          "data": {
            "text/plain": []
          },
          "metadata": {},
          "execution_count": 49
        }
      ],
      "source": [
        "import torch\n",
        "import torch.nn as nn\n",
        "from torchvision import models\n",
        "import gradio as gr\n",
        "import numpy as np\n",
        "import librosa\n",
        "import json\n",
        "import os\n",
        "from skimage.transform import resize  # for resizing features\n",
        "\n",
        "# ========== Model Definition ==========\n",
        "class ResNet34Custom(nn.Module):\n",
        "    def __init__(self, in_channels=4, num_classes=4):\n",
        "        super().__init__()\n",
        "        base = models.resnet34(weights=None)\n",
        "        base.conv1 = nn.Conv2d(in_channels, 64, kernel_size=7, stride=2, padding=3, bias=False)\n",
        "        base.fc = nn.Linear(base.fc.in_features, num_classes)\n",
        "        self.net = base\n",
        "\n",
        "    def forward(self, x):\n",
        "        return self.net(x)\n",
        "\n",
        "# ========== Configurations ==========\n",
        "languages = ['english', 'hindi', 'dzongkha', 'sharchogpa']\n",
        "device = torch.device('cuda' if torch.cuda.is_available() else 'cpu')\n",
        "\n",
        "# ========== Load Model ==========\n",
        "model = ResNet34Custom(in_channels=4, num_classes=len(languages))\n",
        "model_path = '/content/drive/MyDrive/SS2025/DAM101/Assignment_4/best_model.pt'\n",
        "\n",
        "try:\n",
        "    model.load_state_dict(torch.load(model_path, map_location=device))\n",
        "    model.to(device)\n",
        "    model.eval()\n",
        "except Exception as e:\n",
        "    raise RuntimeError(f\"Failed to load model: {e}\")\n",
        "\n",
        "# ========== Load Best Hyperparameters ==========\n",
        "tuning_results_path = '/content/drive/MyDrive/SS2025/DAM101/Assignment_4/tuning_results.json'\n",
        "try:\n",
        "    with open(tuning_results_path, 'r') as f:\n",
        "        best_hparams = json.load(f)\n",
        "except Exception as e:\n",
        "    best_hparams = {\"error\": f\"Could not load hyperparameters: {e}\"}\n",
        "\n",
        "# ========== Feature Extraction ==========\n",
        "def extract_features(audio, sr=22050, n_mels=224, n_mfcc=224, hop_length=512):\n",
        "    try:\n",
        "        mel = librosa.feature.melspectrogram(y=audio, sr=sr, n_mels=n_mels, hop_length=hop_length)\n",
        "        mel_db = librosa.power_to_db(mel, ref=np.max)\n",
        "        mfcc = librosa.feature.mfcc(y=audio, sr=sr, n_mfcc=n_mfcc, hop_length=hop_length)\n",
        "        chroma = librosa.feature.chroma_stft(y=audio, sr=sr, hop_length=hop_length)\n",
        "        contrast = librosa.feature.spectral_contrast(y=audio, sr=sr, hop_length=hop_length)\n",
        "\n",
        "        def pad_resize(feat):\n",
        "            # Pad or crop time dimension to 224\n",
        "            if feat.shape[1] < 224:\n",
        "                pad_width = 224 - feat.shape[1]\n",
        "                feat = np.pad(feat, ((0, 0), (0, pad_width)), mode='constant')\n",
        "            feat = feat[:, :224]\n",
        "            # Resize frequency and time to (224, 224)\n",
        "            feat_resized = resize(feat, (224, 224), mode='reflect', anti_aliasing=True)\n",
        "            return feat_resized\n",
        "\n",
        "        def normalize(x):\n",
        "            x_min, x_max = x.min(), x.max()\n",
        "            return (x - x_min) / (x_max - x_min + 1e-6)\n",
        "\n",
        "        mel_db = normalize(pad_resize(mel_db))\n",
        "        mfcc = normalize(pad_resize(mfcc))\n",
        "        chroma = normalize(pad_resize(chroma))\n",
        "        contrast = normalize(pad_resize(contrast))\n",
        "\n",
        "        stacked = np.stack([mel_db, mfcc, chroma, contrast], axis=0).astype(np.float32)\n",
        "        return stacked\n",
        "    except Exception as e:\n",
        "        raise ValueError(f\"Feature extraction failed: {e}\")\n",
        "\n",
        "# ========== Prediction Function with Debug ==========\n",
        "def predict(audio_path, temperature=1.0):\n",
        "    \"\"\"\n",
        "    Predict the language of the audio.\n",
        "    Parameters:\n",
        "      - audio_path: str path to audio file\n",
        "      - temperature: float, >0, used to soften or sharpen softmax probabilities\n",
        "    \"\"\"\n",
        "    try:\n",
        "        if not isinstance(audio_path, str) or not os.path.isfile(audio_path):\n",
        "            return \"Invalid or missing audio file.\"\n",
        "\n",
        "        audio_np, sr = librosa.load(audio_path, sr=22050)\n",
        "\n",
        "        if audio_np is None or not isinstance(audio_np, np.ndarray) or len(audio_np.shape) != 1:\n",
        "            return \"Invalid waveform format.\"\n",
        "\n",
        "        if audio_np.size == 0:\n",
        "            return \"Empty audio file.\"\n",
        "\n",
        "        features = extract_features(audio_np, sr)\n",
        "\n",
        "        if features.shape != (4, 224, 224):\n",
        "            return f\"Feature shape mismatch: expected (4, 224, 224), got {features.shape}\"\n",
        "\n",
        "        x = torch.tensor(features).unsqueeze(0).to(device)\n",
        "\n",
        "        with torch.no_grad():\n",
        "            logits = model(x)\n",
        "            logits_np = logits.cpu().numpy()[0]\n",
        "\n",
        "            # Optional temperature scaling\n",
        "            scaled_logits = logits / temperature\n",
        "            probs = torch.softmax(scaled_logits, dim=1).cpu().numpy()[0]\n",
        "\n",
        "        # Debug prints to check for Hindi bias\n",
        "        print(\"Logits:\", logits_np)\n",
        "        print(\"Probabilities:\", probs)\n",
        "\n",
        "        return {lang: round(float(prob), 4) for lang, prob in zip(languages, probs)}\n",
        "\n",
        "    except Exception as e:\n",
        "        return f\"Prediction error: {str(e)}\"\n",
        "\n",
        "# ========== Gradio Interface ==========\n",
        "iface = gr.Interface(\n",
        "    fn=predict,\n",
        "    inputs=[gr.Audio(type=\"filepath\"), gr.Slider(minimum=0.1, maximum=5.0, step=0.1, value=1.0, label=\"Softmax Temperature (Higher = Softer)\")],\n",
        "    outputs=gr.Label(num_top_classes=4),\n",
        "    title=\" Language Classification from Audio\",\n",
        "    description=(\n",
        "        \"Upload a song or recorded clip. The model predicts the language among:\\n\"\n",
        "        \"- English\\n- Hindi\\n- Dzongkha\\n- Sharchogpa\\n\\n\"\n",
        "        f\" Best Hyperparameters: {json.dumps(best_hparams, indent=2) if isinstance(best_hparams, dict) else best_hparams}\\n\\n\"\n",
        "        \"Use the slider to adjust softmax temperature for debugging output probabilities.\"\n",
        "    )\n",
        ")\n",
        "\n",
        "iface.launch()"
      ]
    }
  ],
  "metadata": {
    "colab": {
      "provenance": [],
      "authorship_tag": "ABX9TyNU+kbnHjfIyD8Ye5Il3E3x",
      "include_colab_link": true
    },
    "kernelspec": {
      "display_name": "Python 3",
      "name": "python3"
    },
    "language_info": {
      "name": "python"
    }
  },
  "nbformat": 4,
  "nbformat_minor": 0
}